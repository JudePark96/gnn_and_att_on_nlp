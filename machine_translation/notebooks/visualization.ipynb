{
 "cells": [
  {
   "cell_type": "markdown",
   "metadata": {},
   "source": [
    "### Post Processing and Visualization\n",
    "---"
   ]
  },
  {
   "cell_type": "code",
   "execution_count": 24,
   "metadata": {},
   "outputs": [
    {
     "name": "stdout",
     "output_type": "stream",
     "text": [
      "The autoreload extension is already loaded. To reload it, use:\n",
      "  %reload_ext autoreload\n"
     ]
    }
   ],
   "source": [
    "import torch\n",
    "import numpy as np\n",
    "import pandas as pd\n",
    "import torch.nn as nn\n",
    "import matplotlib.pyplot as plt\n",
    "import seaborn as sns\n",
    "from torchtext.data.metrics import bleu_score\n",
    "\n",
    "plt.style.use('ggplot')\n",
    "%matplotlib inline\n",
    "%load_ext autoreload\n",
    "%autoreload 2"
   ]
  },
  {
   "cell_type": "code",
   "execution_count": 2,
   "metadata": {},
   "outputs": [],
   "source": [
    "PAD_TOKEN = '<pad>'\n",
    "UNK_TOKEN = '<unk>'\n",
    "SOS_TOKEN = '<sos>'\n",
    "EOS_TOKEN = '<eos>'"
   ]
  },
  {
   "cell_type": "markdown",
   "metadata": {},
   "source": [
    "### Load test performances\n",
    "---"
   ]
  },
  {
   "cell_type": "code",
   "execution_count": 170,
   "metadata": {},
   "outputs": [],
   "source": [
    "def reverse_vocab(vocab):\n",
    "    return dict([(v, k) for k,v in vocab.items()])\n",
    "\n",
    "def validate_vocab(d):\n",
    "    print(f\"one to one mapping: {bool(len(d) == len(set([v for _, v in d.items()])))}\")\n",
    "    print(len(d), len(set([v for _, v in d.items()])))\n",
    "    \n",
    "def set_util_maps(itos):\n",
    "    itos[0] = '<unk>'\n",
    "    itos[1] = '<pad>'\n",
    "    itos[2] = '<sos>'\n",
    "    itos[3] = '<eos>'\n",
    "    return itos\n",
    "\n",
    "def batched_data_to_list(src, tgt, pred_tgts):\n",
    "    \"\"\" src, tgt, pred_tgts have format:\n",
    "    [tensor(src_len, batch size), ...]\n",
    "    \n",
    "    return [[int0, int1, int2,...],...]\n",
    "    \"\"\"\n",
    "    src_, tgt_, pred_tgts_ = [], [], []\n",
    "    \n",
    "    for batch in src:\n",
    "        src_.extend([datum.tolist() for datum in batch.transpose(1,0)])\n",
    "    \n",
    "    for batch in tgt:\n",
    "        tgt_.extend([datum.tolist() for datum in batch.transpose(1,0)])\n",
    "        \n",
    "    for batch in pred_tgts:\n",
    "        pred_tgts_.extend([datum.tolist() for datum in batch.argmax(2).transpose(1,0)])\n",
    "        \n",
    "    return src_, tgt_, pred_tgts_\n",
    "\n",
    "\n",
    "def ints_to_sentences(sent, vocab):\n",
    "    \"\"\"sent is a sequence of ints\"\"\"\n",
    "    return [vocab[w] if w in vocab else \"<unk>\" for w in sent]\n",
    "\n",
    "def clip_sentence(sent):\n",
    "    \"\"\" sent: list[str] \"\"\"\n",
    "    # remove initial <sos>\n",
    "    sent = sent[1:]\n",
    "    \n",
    "    # stop when first \"<eos>\" generated\n",
    "    sent_ = []\n",
    "    for w in sent:\n",
    "        if w == '<eos>':\n",
    "            return sent_\n",
    "        sent_.append(w)\n",
    "    return sent_\n",
    "\n",
    "def postprocess(src, tgt, pred_tgts, src_itos, tgt_itos):\n",
    "    src, tgt, pred_tgts = batched_data_to_list(src, tgt, pred_tgts)\n",
    "    src = list(map(lambda sent: ints_to_sentences(sent, src_itos), src))\n",
    "    tgt = list(map(lambda sent: ints_to_sentences(sent, tgt_itos), tgt))\n",
    "    pred_tgts = list(map(lambda sent: ints_to_sentences(sent, tgt_itos), pred_tgts))\n",
    "    \n",
    "    src = list(map(clip_sentence, src))\n",
    "    tgt = list(map(clip_sentence, tgt))\n",
    "    pred_tgts = list(map(clip_sentence, pred_tgts))\n",
    "    return src, tgt, pred_tgts\n",
    "\n",
    "def bleu_score_wrapper(tgt, pred_tgts):\n",
    "    \"\"\" convert format of tgt to appropriate format \"\"\"\n",
    "    tgt = [[t] for t in tgt]\n",
    "    return bleu_score(pred_tgts, tgt)\n",
    "\n",
    "def write_translations(sents, file):\n",
    "    with open(file, 'w') as f:\n",
    "        for sent in sents:\n",
    "            f.write(\" \".join(sent)+\"\\n\")"
   ]
  },
  {
   "cell_type": "code",
   "execution_count": 212,
   "metadata": {},
   "outputs": [
    {
     "name": "stdout",
     "output_type": "stream",
     "text": [
      "dict_keys(['pred_tgts', 'src', 'tgt', 'SRC_vocab', 'TGT_vocab'])\n",
      "Bleu score: 2.373911067843437\n"
     ]
    }
   ],
   "source": [
    "# Multi30k-gru**2-5\n",
    "payload = torch.load(\"for-analysis/Multi30k-gru**2-5/payload.pt\")\n",
    "print(payload.keys())\n",
    "pred_tgts = payload['pred_tgts']\n",
    "src = payload['src']\n",
    "tgt = payload['tgt']\n",
    "src_vocab = payload['SRC_vocab']  # stoi\n",
    "tgt_vocab = payload['TGT_vocab']  # stoi\n",
    "src_itos = set_util_maps(reverse_vocab(src_vocab))\n",
    "tgt_itos = set_util_maps(reverse_vocab(tgt_vocab))\n",
    "\n",
    "# compute bleu score\n",
    "src, tgt, pred_tgts = postprocess(src, tgt, pred_tgts, src_itos, tgt_itos)\n",
    "gru_tgt = tgt\n",
    "gru_src = src\n",
    "write_translations(pred_tgts, \"for-analysis/output_translations/gru**2.eng\")\n",
    "print(f\"Bleu score: {bleu_score_wrapper(pred_tgts, tgt)*100}\")"
   ]
  },
  {
   "cell_type": "code",
   "execution_count": 172,
   "metadata": {},
   "outputs": [
    {
     "name": "stdout",
     "output_type": "stream",
     "text": [
      "dict_keys(['pred_tgts', 'src', 'tgt', 'SRC_vocab', 'TGT_vocab'])\n",
      "Bleu score: 7.8253477811813354\n"
     ]
    }
   ],
   "source": [
    "# Multi30k-gcn_gru-1\n",
    "payload = torch.load(\"for-analysis/Multi30k-gcn_gru-1/payload.pt\")\n",
    "print(payload.keys())\n",
    "pred_tgts = payload['pred_tgts']\n",
    "src = payload['src']\n",
    "tgt = payload['tgt']\n",
    "src_vocab = payload['SRC_vocab']  # stoi\n",
    "tgt_vocab = payload['TGT_vocab']  # stoi\n",
    "src_itos = set_util_maps(reverse_vocab(src_vocab))\n",
    "tgt_itos = set_util_maps(reverse_vocab(tgt_vocab))\n",
    "\n",
    "# compute bleu score\n",
    "src, tgt, pred_tgts = postprocess(src, tgt, pred_tgts, src_itos, tgt_itos)\n",
    "write_translations(pred_tgts, \"for-analysis/output_translations/gcn_gru.eng\")\n",
    "print(f\"Bleu score: {bleu_score_wrapper(pred_tgts, tgt)*100}\")"
   ]
  },
  {
   "cell_type": "code",
   "execution_count": 173,
   "metadata": {},
   "outputs": [
    {
     "name": "stdout",
     "output_type": "stream",
     "text": [
      "dict_keys(['pred_tgts', 'src', 'tgt', 'SRC_vocab', 'TGT_vocab'])\n",
      "Bleu score: 22.964130342006683\n"
     ]
    }
   ],
   "source": [
    "# Multi30k-gcngru_gru-1\n",
    "payload = torch.load(\"for-analysis/Multi30k-gcngru_gru-1/payload.pt\")\n",
    "print(payload.keys())\n",
    "pred_tgts = payload['pred_tgts']\n",
    "src = payload['src']\n",
    "tgt = payload['tgt']\n",
    "src_vocab = payload['SRC_vocab']  # stoi\n",
    "tgt_vocab = payload['TGT_vocab']  # stoi\n",
    "src_itos = set_util_maps(reverse_vocab(src_vocab))\n",
    "tgt_itos = set_util_maps(reverse_vocab(tgt_vocab))\n",
    "\n",
    "# compute bleu score\n",
    "src, tgt, pred_tgts = postprocess(src, tgt, pred_tgts, src_itos, tgt_itos)\n",
    "write_translations(pred_tgts, \"for-analysis/output_translations/gcngru_gru.eng\")\n",
    "print(f\"Bleu score: {bleu_score_wrapper(pred_tgts, tgt)*100}\")"
   ]
  },
  {
   "cell_type": "code",
   "execution_count": 174,
   "metadata": {},
   "outputs": [
    {
     "name": "stdout",
     "output_type": "stream",
     "text": [
      "dict_keys(['pred_tgts', 'attns', 'src', 'tgt', 'SRC_vocab', 'TGT_vocab'])\n",
      "Bleu score: 16.638437879309034\n"
     ]
    }
   ],
   "source": [
    "# Multi30k-gcnattn_gru-1\n",
    "payload = torch.load(\"for-analysis/Multi30k-gcnattn_gru-1/payload.pt\")\n",
    "print(payload.keys())\n",
    "pred_tgts = payload['pred_tgts']\n",
    "src = payload['src']\n",
    "tgt = payload['tgt']\n",
    "src_vocab = payload['SRC_vocab']  # stoi\n",
    "tgt_vocab = payload['TGT_vocab']  # stoi\n",
    "src_itos = set_util_maps(reverse_vocab(src_vocab))\n",
    "tgt_itos = set_util_maps(reverse_vocab(tgt_vocab))\n",
    "\n",
    "# compute bleu score\n",
    "src, tgt, pred_tgts = postprocess(src, tgt, pred_tgts, src_itos, tgt_itos)\n",
    "write_translations(pred_tgts, \"for-analysis/output_translations/gcnattn_gru.eng\")\n",
    "print(f\"Bleu score: {bleu_score_wrapper(pred_tgts, tgt)*100}\")"
   ]
  },
  {
   "cell_type": "code",
   "execution_count": 175,
   "metadata": {},
   "outputs": [
    {
     "name": "stdout",
     "output_type": "stream",
     "text": [
      "dict_keys(['pred_tgts', 'attns', 'src', 'tgt', 'SRC_vocab', 'TGT_vocab'])\n",
      "Bleu score: 29.867154359817505\n"
     ]
    }
   ],
   "source": [
    "# gru_attn**2\n",
    "payload = torch.load(\"for-analysis/Multi30k-gru_attn**2-3/payload.pt\")\n",
    "print(payload.keys())\n",
    "pred_tgts = payload['pred_tgts']\n",
    "attns = payload['attns']\n",
    "src = payload['src']\n",
    "tgt = payload['tgt']\n",
    "src_vocab = payload['SRC_vocab']  # stoi\n",
    "tgt_vocab = payload['TGT_vocab']  # stoi\n",
    "src_itos = set_util_maps(reverse_vocab(src_vocab))\n",
    "tgt_itos = set_util_maps(reverse_vocab(tgt_vocab))\n",
    "\n",
    "# compute bleu score\n",
    "src, tgt, pred_tgts = postprocess(src, tgt, pred_tgts, src_itos, tgt_itos)\n",
    "write_translations(pred_tgts, \"for-analysis/output_translations/gru_attn.eng\")\n",
    "print(f\"Bleu score: {bleu_score_wrapper(pred_tgts, tgt)*100}\")"
   ]
  },
  {
   "cell_type": "code",
   "execution_count": 176,
   "metadata": {},
   "outputs": [
    {
     "name": "stdout",
     "output_type": "stream",
     "text": [
      "dict_keys(['pred_tgts', 'attns', 'src', 'tgt', 'SRC_vocab', 'TGT_vocab'])\n",
      "Bleu score: 29.064443707466125\n"
     ]
    }
   ],
   "source": [
    "# Multi30k-gcngruattn_gru-1\n",
    "payload = torch.load(\"for-analysis/Multi30k-gcngruattn_gru-1/payload.pt\")\n",
    "print(payload.keys())\n",
    "pred_tgts = payload['pred_tgts']\n",
    "attns = payload['attns']\n",
    "src = payload['src']\n",
    "tgt = payload['tgt']\n",
    "src_vocab = payload['SRC_vocab']  # stoi\n",
    "tgt_vocab = payload['TGT_vocab']  # stoi\n",
    "src_itos = set_util_maps(reverse_vocab(src_vocab))\n",
    "tgt_itos = set_util_maps(reverse_vocab(tgt_vocab))\n",
    "\n",
    "# compute bleu score\n",
    "src, tgt, pred_tgts = postprocess(src, tgt, pred_tgts, src_itos, tgt_itos)\n",
    "write_translations(pred_tgts, \"for-analysis/output_translations/gcngruattn_gru.eng\")\n",
    "print(f\"Bleu score: {bleu_score_wrapper(pred_tgts, tgt)*100}\")"
   ]
  },
  {
   "cell_type": "code",
   "execution_count": 177,
   "metadata": {},
   "outputs": [],
   "source": [
    "write_translations(tgt, \"for-analysis/output_translations/ref.eng\")"
   ]
  },
  {
   "cell_type": "markdown",
   "metadata": {},
   "source": [
    "#### Separately deal with transformer"
   ]
  },
  {
   "cell_type": "code",
   "execution_count": 222,
   "metadata": {},
   "outputs": [
    {
     "name": "stdout",
     "output_type": "stream",
     "text": [
      "dict_keys(['pred_tgts', 'attns', 'src', 'tgt', 'SRC_vocab', 'TGT_vocab'])\n"
     ]
    }
   ],
   "source": [
    "# transformer\n",
    "payload = torch.load(\"for-analysis/Multi30k-transformer-100/payload.pt\", map_location=torch.device('cpu'))\n",
    "print(payload.keys())\n",
    "pred_tgts = payload['pred_tgts']\n",
    "attns = payload['attns']\n",
    "src = payload['src']\n",
    "tgt = payload['tgt']\n",
    "tfmr_src = src\n",
    "tfmr_tgt = tgt\n",
    "src_vocab = payload['SRC_vocab']\n",
    "tgt_vocab = payload['TGT_vocab']"
   ]
  },
  {
   "cell_type": "code",
   "execution_count": 223,
   "metadata": {},
   "outputs": [
    {
     "name": "stdout",
     "output_type": "stream",
     "text": [
      "Bleu score: 36.47030293941498\n"
     ]
    }
   ],
   "source": [
    "write_translations(tgt, \"for-analysis/output_translations/tfmr_ref.eng\")\n",
    "write_translations(pred_tgts, \"for-analysis/output_translations/transformer.eng\")\n",
    "print(f\"Bleu score: {bleu_score_wrapper(pred_tgts, tgt)*100}\")"
   ]
  },
  {
   "cell_type": "code",
   "execution_count": 218,
   "metadata": {},
   "outputs": [
    {
     "name": "stdout",
     "output_type": "stream",
     "text": [
      "['three men are walking up hill .', 'two men wearing hats .', 'an army officer is inspecting something .', 'a woman is playing volleyball .', 'a rock concert is taking place .', 'young woman climbing rock face', 'people are admiring a work of art .', 'a child is splashing in the water', 'people sit inside a train .', 'a car parked at the beach .']\n"
     ]
    }
   ],
   "source": [
    "gru_srcs = [\" \".join(sent) for sent in gru_src]\n",
    "gru_tgts = [\" \".join(sent) for sent in gru_tgt]\n",
    "print(gru_tgts[:10])"
   ]
  },
  {
   "cell_type": "code",
   "execution_count": 219,
   "metadata": {},
   "outputs": [
    {
     "name": "stdout",
     "output_type": "stream",
     "text": [
      "['a man in an orange hat starring at something .', 'a boston terrier is running on lush green grass in front of a white fence .', 'a girl in karate uniform breaking a stick with a front kick .', 'five people wearing winter jackets and helmets stand in the snow , with snowmobiles in the background .', 'people are fixing the roof of a house .', 'a man in light colored clothing photographs a group of men wearing dark suits and hats standing around a woman dressed in a strapless gown .', 'a group of people standing in front of an igloo .', 'a boy in a red uniform is attempting to avoid getting out at home plate , while the catcher in the blue uniform is attempting to catch him .', 'a guy works on a building .', 'a man in a vest is sitting in a chair and holding magazines .']\n"
     ]
    }
   ],
   "source": [
    "tfmr_srcs = [\" \".join(sent) for sent in tfmr_src]\n",
    "tfmr_tgts = [\" \".join(sent) for sent in tfmr_tgt]\n",
    "print(tfmr_tgts[:10])"
   ]
  },
  {
   "cell_type": "code",
   "execution_count": 220,
   "metadata": {},
   "outputs": [
    {
     "name": "stdout",
     "output_type": "stream",
     "text": [
      "--------------------------------------------------------------------------------\n",
      "drei männer gehen bergauf .\n",
      "three men are walking up hill .\n",
      "ein mann mit einem orangefarbenen hut , der etwas anstarrt .\n",
      "a man in an orange hat starring at something .\n",
      "--------------------------------------------------------------------------------\n",
      "zwei männer mit mützen .\n",
      "two men wearing hats .\n",
      "ein boston terrier läuft über saftig-grünes gras vor einem weißen zaun .\n",
      "a boston terrier is running on lush green grass in front of a white fence .\n",
      "--------------------------------------------------------------------------------\n",
      "ein <unk> inspiziert etwas .\n",
      "an army officer is inspecting something .\n",
      "ein mädchen in einem karateanzug bricht ein brett mit einem tritt .\n",
      "a girl in karate uniform breaking a stick with a front kick .\n",
      "--------------------------------------------------------------------------------\n",
      "eine frau spielt volleyball .\n",
      "a woman is playing volleyball .\n",
      "fünf leute in winterjacken und mit helmen stehen im schnee mit schneemobilen im hintergrund .\n",
      "five people wearing winter jackets and helmets stand in the snow , with snowmobiles in the background .\n",
      "--------------------------------------------------------------------------------\n",
      "ein rockkonzert findet statt .\n",
      "a rock concert is taking place .\n",
      "leute reparieren das dach eines hauses .\n",
      "people are fixing the roof of a house .\n",
      "--------------------------------------------------------------------------------\n",
      "junge frau klettert auf felswand\n",
      "young woman climbing rock face\n",
      "ein hell gekleideter mann fotografiert eine gruppe von männern in dunklen anzügen und mit hüten , die um eine frau in einem trägerlosen kleid herum stehen .\n",
      "a man in light colored clothing photographs a group of men wearing dark suits and hats standing around a woman dressed in a strapless gown .\n",
      "--------------------------------------------------------------------------------\n",
      "leute bewundern ein kunstwerk .\n",
      "people are admiring a work of art .\n",
      "eine gruppe von menschen steht vor einem iglu .\n",
      "a group of people standing in front of an igloo .\n",
      "--------------------------------------------------------------------------------\n",
      "ein kind planscht im wasser .\n",
      "a child is splashing in the water\n",
      "ein junge in einem roten trikot versucht , die home base zu erreichen , während der catcher im blauen trikot versucht , ihn zu fangen .\n",
      "a boy in a red uniform is attempting to avoid getting out at home plate , while the catcher in the blue uniform is attempting to catch him .\n",
      "--------------------------------------------------------------------------------\n",
      "leute sitzen in einem zug .\n",
      "people sit inside a train .\n",
      "ein typ arbeitet an einem gebäude .\n",
      "a guy works on a building .\n",
      "--------------------------------------------------------------------------------\n",
      "ein am strand <unk> auto .\n",
      "a car parked at the beach .\n",
      "ein mann in einer weste sitzt auf einem stuhl und hält magazine .\n",
      "a man in a vest is sitting in a chair and holding magazines .\n"
     ]
    }
   ],
   "source": [
    "for i in range(10):\n",
    "    print(\"-\"*80)\n",
    "    print(gru_srcs[i])\n",
    "    print(gru_tgts[i])\n",
    "    print(tfmr_srcs[i])\n",
    "    print(tfmr_tgts[i])"
   ]
  },
  {
   "cell_type": "markdown",
   "metadata": {},
   "source": [
    "#### Analysis\n",
    "---"
   ]
  },
  {
   "cell_type": "code",
   "execution_count": 54,
   "metadata": {},
   "outputs": [],
   "source": [
    "bleu_by_len = pd.read_csv(\"for-analysis/analysis-data/bleu_by_sent_length.csv\", index_col=0)\n",
    "bleu = pd.read_csv(\"for-analysis/analysis-data/bleu_score.csv\", index_col=0)\n",
    "len_diff = pd.read_csv(\"for-analysis/analysis-data/bucket_type_len_diff-bucket_type_count.csv\", index_col=0)\n",
    "len_count = pd.read_csv(\"for-analysis/analysis-data/bucket_type_sent_level_BLEU_count.csv\", index_col=0)\n",
    "word_fleas = pd.read_csv(\"for-analysis/analysis-data/word_fleas_by_frequency_bucket.csv\", index_col=0)"
   ]
  },
  {
   "cell_type": "code",
   "execution_count": 55,
   "metadata": {},
   "outputs": [
    {
     "data": {
      "text/html": [
       "<div>\n",
       "<style scoped>\n",
       "    .dataframe tbody tr th:only-of-type {\n",
       "        vertical-align: middle;\n",
       "    }\n",
       "\n",
       "    .dataframe tbody tr th {\n",
       "        vertical-align: top;\n",
       "    }\n",
       "\n",
       "    .dataframe thead th {\n",
       "        text-align: right;\n",
       "    }\n",
       "</style>\n",
       "<table border=\"1\" class=\"dataframe\">\n",
       "  <thead>\n",
       "    <tr style=\"text-align: right;\">\n",
       "      <th></th>\n",
       "      <th>gru2gru</th>\n",
       "      <th>gcn2gru</th>\n",
       "      <th>gcngru2gru</th>\n",
       "      <th>gru2gru-attn</th>\n",
       "      <th>gcn2gru-attn</th>\n",
       "      <th>gcngru2gru-attn</th>\n",
       "      <th>transformer</th>\n",
       "    </tr>\n",
       "  </thead>\n",
       "  <tbody>\n",
       "    <tr>\n",
       "      <th>BLEU</th>\n",
       "      <td>2.4009</td>\n",
       "      <td>7.8999</td>\n",
       "      <td>23.1794</td>\n",
       "      <td>30.1388</td>\n",
       "      <td>16.5698</td>\n",
       "      <td>29.3435</td>\n",
       "      <td>36.4986</td>\n",
       "    </tr>\n",
       "    <tr>\n",
       "      <th>length ratio</th>\n",
       "      <td>0.8424 (ref=13058, out=11000)</td>\n",
       "      <td>0.8020 (ref=13058, out=10473)</td>\n",
       "      <td>0.9121 (ref=13058, out=11910)</td>\n",
       "      <td>0.9161 (ref=13058, out=11962)</td>\n",
       "      <td>1.0350 (ref=13058, out=13515)</td>\n",
       "      <td>0.9073 (ref=13058, out=11848)</td>\n",
       "      <td>0.9944 (ref=13058, out=12985)</td>\n",
       "    </tr>\n",
       "  </tbody>\n",
       "</table>\n",
       "</div>"
      ],
      "text/plain": [
       "                                    gru2gru                        gcn2gru  \\\n",
       "BLEU                                 2.4009                         7.8999   \n",
       "length ratio  0.8424 (ref=13058, out=11000)  0.8020 (ref=13058, out=10473)   \n",
       "\n",
       "                                 gcngru2gru                   gru2gru-attn  \\\n",
       "BLEU                                23.1794                        30.1388   \n",
       "length ratio  0.9121 (ref=13058, out=11910)  0.9161 (ref=13058, out=11962)   \n",
       "\n",
       "                               gcn2gru-attn                gcngru2gru-attn  \\\n",
       "BLEU                                16.5698                        29.3435   \n",
       "length ratio  1.0350 (ref=13058, out=13515)  0.9073 (ref=13058, out=11848)   \n",
       "\n",
       "                                transformer  \n",
       "BLEU                                36.4986  \n",
       "length ratio  0.9944 (ref=13058, out=12985)  "
      ]
     },
     "execution_count": 55,
     "metadata": {},
     "output_type": "execute_result"
    }
   ],
   "source": [
    "bleu"
   ]
  },
  {
   "cell_type": "code",
   "execution_count": 62,
   "metadata": {},
   "outputs": [
    {
     "name": "stderr",
     "output_type": "stream",
     "text": [
      "No handles with labels found to put in legend.\n"
     ]
    },
    {
     "data": {
      "image/png": "[encoded data removed]",
      "text/plain": [
       "<Figure size 576x576 with 1 Axes>"
      ]
     },
     "metadata": {
      "needs_background": "light"
     },
     "output_type": "display_data"
    }
   ],
   "source": [
    "fig = plt.figure(figsize=(8,8))\n",
    "sns.barplot(x=bleu.columns, y=bleu.loc['BLEU'])\n",
    "plt.xticks(rotation=45)\n",
    "plt.legend()\n",
    "plt.title(\"BLEU by Model\")\n",
    "plt.savefig(\"plots/bleu-by-model.png\")\n",
    "plt.tight_layout()\n",
    "plt.show()"
   ]
  },
  {
   "cell_type": "code",
   "execution_count": 33,
   "metadata": {},
   "outputs": [
    {
     "name": "stderr",
     "output_type": "stream",
     "text": [
      "No handles with labels found to put in legend.\n"
     ]
    },
    {
     "data": {
      "image/png": "[encoded data removed]",
      "text/plain": [
       "<Figure size 432x288 with 1 Axes>"
      ]
     },
     "metadata": {
      "needs_background": "light"
     },
     "output_type": "display_data"
    }
   ],
   "source": [
    "len_ratio = list(map(lambda x: float(x.split()[0]), bleu.loc['length ratio']))\n",
    "sns.barplot(x=bleu.columns, y=len_ratio)\n",
    "plt.xticks(rotation=45)\n",
    "plt.legend()\n",
    "plt.title(\"Output Length Ratio\")\n",
    "plt.show()"
   ]
  },
  {
   "cell_type": "code",
   "execution_count": 10,
   "metadata": {},
   "outputs": [
    {
     "data": {
      "text/html": [
       "<div>\n",
       "<style scoped>\n",
       "    .dataframe tbody tr th:only-of-type {\n",
       "        vertical-align: middle;\n",
       "    }\n",
       "\n",
       "    .dataframe tbody tr th {\n",
       "        vertical-align: top;\n",
       "    }\n",
       "\n",
       "    .dataframe thead th {\n",
       "        text-align: right;\n",
       "    }\n",
       "</style>\n",
       "<table border=\"1\" class=\"dataframe\">\n",
       "  <thead>\n",
       "    <tr style=\"text-align: right;\">\n",
       "      <th></th>\n",
       "      <th>gru2gru</th>\n",
       "      <th>gcn2gru</th>\n",
       "      <th>gcngru2gru</th>\n",
       "      <th>gru2gru-attn</th>\n",
       "      <th>gcn2gru-attn</th>\n",
       "      <th>gcngru2gru-attn</th>\n",
       "      <th>transformer</th>\n",
       "    </tr>\n",
       "    <tr>\n",
       "      <th>length</th>\n",
       "      <th></th>\n",
       "      <th></th>\n",
       "      <th></th>\n",
       "      <th></th>\n",
       "      <th></th>\n",
       "      <th></th>\n",
       "      <th></th>\n",
       "    </tr>\n",
       "  </thead>\n",
       "  <tbody>\n",
       "    <tr>\n",
       "      <th>&lt;10</th>\n",
       "      <td>24.5712</td>\n",
       "      <td>7.3517</td>\n",
       "      <td>25.5988</td>\n",
       "      <td>32.0295</td>\n",
       "      <td>12.1291</td>\n",
       "      <td>25.4822</td>\n",
       "      <td>36.4862</td>\n",
       "    </tr>\n",
       "    <tr>\n",
       "      <th>[10,20)</th>\n",
       "      <td>2.4924</td>\n",
       "      <td>8.3208</td>\n",
       "      <td>24.0196</td>\n",
       "      <td>31.1055</td>\n",
       "      <td>17.2280</td>\n",
       "      <td>30.7746</td>\n",
       "      <td>37.8114</td>\n",
       "    </tr>\n",
       "    <tr>\n",
       "      <th>[20,30)</th>\n",
       "      <td>1.9736</td>\n",
       "      <td>3.0439</td>\n",
       "      <td>14.2327</td>\n",
       "      <td>19.7787</td>\n",
       "      <td>10.6913</td>\n",
       "      <td>21.8742</td>\n",
       "      <td>24.8010</td>\n",
       "    </tr>\n",
       "    <tr>\n",
       "      <th>[30,40)</th>\n",
       "      <td>2.4127</td>\n",
       "      <td>3.2907</td>\n",
       "      <td>24.6559</td>\n",
       "      <td>23.6155</td>\n",
       "      <td>15.1772</td>\n",
       "      <td>34.2396</td>\n",
       "      <td>33.6290</td>\n",
       "    </tr>\n",
       "  </tbody>\n",
       "</table>\n",
       "</div>"
      ],
      "text/plain": [
       "         gru2gru  gcn2gru  gcngru2gru  gru2gru-attn  gcn2gru-attn  \\\n",
       "length                                                              \n",
       "<10      24.5712   7.3517     25.5988       32.0295       12.1291   \n",
       "[10,20)   2.4924   8.3208     24.0196       31.1055       17.2280   \n",
       "[20,30)   1.9736   3.0439     14.2327       19.7787       10.6913   \n",
       "[30,40)   2.4127   3.2907     24.6559       23.6155       15.1772   \n",
       "\n",
       "         gcngru2gru-attn  transformer  \n",
       "length                                 \n",
       "<10              25.4822      36.4862  \n",
       "[10,20)          30.7746      37.8114  \n",
       "[20,30)          21.8742      24.8010  \n",
       "[30,40)          34.2396      33.6290  "
      ]
     },
     "execution_count": 10,
     "metadata": {},
     "output_type": "execute_result"
    }
   ],
   "source": [
    "bleu_by_len"
   ]
  },
  {
   "cell_type": "code",
   "execution_count": 65,
   "metadata": {},
   "outputs": [
    {
     "data": {
      "text/plain": [
       "<Figure size 576x576 with 0 Axes>"
      ]
     },
     "metadata": {},
     "output_type": "display_data"
    },
    {
     "data": {
      "image/png": "[encoded data removed]",
      "text/plain": [
       "<Figure size 864x576 with 1 Axes>"
      ]
     },
     "metadata": {
      "needs_background": "light"
     },
     "output_type": "display_data"
    }
   ],
   "source": [
    "fig = plt.figure(figsize=(8,8))\n",
    "df = bleu_by_len.stack().to_frame()\n",
    "df = df.reset_index()\n",
    "df.columns = [\"length\", \"model\", \"bleu\"]\n",
    "\n",
    "plt.figure(figsize=(12,8))\n",
    "sns.barplot(data=df, x=\"length\", y=\"bleu\", hue=\"model\")\n",
    "plt.title(\"BLEU by length\")\n",
    "plt.savefig(\"plots/bleu-by-length.png\", quality=95)\n",
    "plt.show()"
   ]
  },
  {
   "cell_type": "code",
   "execution_count": 11,
   "metadata": {},
   "outputs": [
    {
     "data": {
      "text/html": [
       "<div>\n",
       "<style scoped>\n",
       "    .dataframe tbody tr th:only-of-type {\n",
       "        vertical-align: middle;\n",
       "    }\n",
       "\n",
       "    .dataframe tbody tr th {\n",
       "        vertical-align: top;\n",
       "    }\n",
       "\n",
       "    .dataframe thead th {\n",
       "        text-align: right;\n",
       "    }\n",
       "</style>\n",
       "<table border=\"1\" class=\"dataframe\">\n",
       "  <thead>\n",
       "    <tr style=\"text-align: right;\">\n",
       "      <th></th>\n",
       "      <th>gru2gru</th>\n",
       "      <th>gcn2gru</th>\n",
       "      <th>gcngru2gru</th>\n",
       "      <th>gru2gru-attn</th>\n",
       "      <th>gcn2gru-attn</th>\n",
       "      <th>gcngru2gru-attn</th>\n",
       "      <th>transformer</th>\n",
       "    </tr>\n",
       "    <tr>\n",
       "      <th>lengthdiff</th>\n",
       "      <th></th>\n",
       "      <th></th>\n",
       "      <th></th>\n",
       "      <th></th>\n",
       "      <th></th>\n",
       "      <th></th>\n",
       "      <th></th>\n",
       "    </tr>\n",
       "  </thead>\n",
       "  <tbody>\n",
       "    <tr>\n",
       "      <th>&lt;-20</th>\n",
       "      <td>2</td>\n",
       "      <td>1</td>\n",
       "      <td>0</td>\n",
       "      <td>0</td>\n",
       "      <td>0</td>\n",
       "      <td>0</td>\n",
       "      <td>0</td>\n",
       "    </tr>\n",
       "    <tr>\n",
       "      <th>[-20,-10)</th>\n",
       "      <td>44</td>\n",
       "      <td>49</td>\n",
       "      <td>0</td>\n",
       "      <td>2</td>\n",
       "      <td>13</td>\n",
       "      <td>1</td>\n",
       "      <td>2</td>\n",
       "    </tr>\n",
       "    <tr>\n",
       "      <th>[-10,-5)</th>\n",
       "      <td>115</td>\n",
       "      <td>141</td>\n",
       "      <td>44</td>\n",
       "      <td>43</td>\n",
       "      <td>51</td>\n",
       "      <td>47</td>\n",
       "      <td>20</td>\n",
       "    </tr>\n",
       "    <tr>\n",
       "      <th>-5</th>\n",
       "      <td>58</td>\n",
       "      <td>58</td>\n",
       "      <td>25</td>\n",
       "      <td>34</td>\n",
       "      <td>26</td>\n",
       "      <td>37</td>\n",
       "      <td>20</td>\n",
       "    </tr>\n",
       "    <tr>\n",
       "      <th>-4</th>\n",
       "      <td>79</td>\n",
       "      <td>96</td>\n",
       "      <td>55</td>\n",
       "      <td>49</td>\n",
       "      <td>25</td>\n",
       "      <td>70</td>\n",
       "      <td>26</td>\n",
       "    </tr>\n",
       "    <tr>\n",
       "      <th>-3</th>\n",
       "      <td>89</td>\n",
       "      <td>105</td>\n",
       "      <td>124</td>\n",
       "      <td>95</td>\n",
       "      <td>47</td>\n",
       "      <td>95</td>\n",
       "      <td>57</td>\n",
       "    </tr>\n",
       "    <tr>\n",
       "      <th>-2</th>\n",
       "      <td>93</td>\n",
       "      <td>111</td>\n",
       "      <td>132</td>\n",
       "      <td>130</td>\n",
       "      <td>67</td>\n",
       "      <td>131</td>\n",
       "      <td>96</td>\n",
       "    </tr>\n",
       "    <tr>\n",
       "      <th>-1</th>\n",
       "      <td>120</td>\n",
       "      <td>119</td>\n",
       "      <td>208</td>\n",
       "      <td>204</td>\n",
       "      <td>107</td>\n",
       "      <td>205</td>\n",
       "      <td>171</td>\n",
       "    </tr>\n",
       "    <tr>\n",
       "      <th>0</th>\n",
       "      <td>117</td>\n",
       "      <td>114</td>\n",
       "      <td>186</td>\n",
       "      <td>225</td>\n",
       "      <td>109</td>\n",
       "      <td>206</td>\n",
       "      <td>245</td>\n",
       "    </tr>\n",
       "    <tr>\n",
       "      <th>1</th>\n",
       "      <td>105</td>\n",
       "      <td>82</td>\n",
       "      <td>143</td>\n",
       "      <td>140</td>\n",
       "      <td>126</td>\n",
       "      <td>121</td>\n",
       "      <td>173</td>\n",
       "    </tr>\n",
       "    <tr>\n",
       "      <th>2</th>\n",
       "      <td>93</td>\n",
       "      <td>57</td>\n",
       "      <td>51</td>\n",
       "      <td>45</td>\n",
       "      <td>122</td>\n",
       "      <td>55</td>\n",
       "      <td>87</td>\n",
       "    </tr>\n",
       "    <tr>\n",
       "      <th>3</th>\n",
       "      <td>50</td>\n",
       "      <td>41</td>\n",
       "      <td>17</td>\n",
       "      <td>18</td>\n",
       "      <td>132</td>\n",
       "      <td>17</td>\n",
       "      <td>55</td>\n",
       "    </tr>\n",
       "    <tr>\n",
       "      <th>4</th>\n",
       "      <td>29</td>\n",
       "      <td>11</td>\n",
       "      <td>11</td>\n",
       "      <td>9</td>\n",
       "      <td>76</td>\n",
       "      <td>8</td>\n",
       "      <td>17</td>\n",
       "    </tr>\n",
       "    <tr>\n",
       "      <th>5</th>\n",
       "      <td>4</td>\n",
       "      <td>6</td>\n",
       "      <td>2</td>\n",
       "      <td>5</td>\n",
       "      <td>55</td>\n",
       "      <td>3</td>\n",
       "      <td>13</td>\n",
       "    </tr>\n",
       "    <tr>\n",
       "      <th>[6,11)</th>\n",
       "      <td>2</td>\n",
       "      <td>9</td>\n",
       "      <td>2</td>\n",
       "      <td>1</td>\n",
       "      <td>44</td>\n",
       "      <td>4</td>\n",
       "      <td>15</td>\n",
       "    </tr>\n",
       "    <tr>\n",
       "      <th>[11,21)</th>\n",
       "      <td>0</td>\n",
       "      <td>0</td>\n",
       "      <td>0</td>\n",
       "      <td>0</td>\n",
       "      <td>0</td>\n",
       "      <td>0</td>\n",
       "      <td>1</td>\n",
       "    </tr>\n",
       "    <tr>\n",
       "      <th>&gt;=21</th>\n",
       "      <td>0</td>\n",
       "      <td>0</td>\n",
       "      <td>0</td>\n",
       "      <td>0</td>\n",
       "      <td>0</td>\n",
       "      <td>0</td>\n",
       "      <td>2</td>\n",
       "    </tr>\n",
       "  </tbody>\n",
       "</table>\n",
       "</div>"
      ],
      "text/plain": [
       "            gru2gru  gcn2gru  gcngru2gru  gru2gru-attn  gcn2gru-attn  \\\n",
       "lengthdiff                                                             \n",
       "<-20              2        1           0             0             0   \n",
       "[-20,-10)        44       49           0             2            13   \n",
       "[-10,-5)        115      141          44            43            51   \n",
       "-5               58       58          25            34            26   \n",
       "-4               79       96          55            49            25   \n",
       "-3               89      105         124            95            47   \n",
       "-2               93      111         132           130            67   \n",
       "-1              120      119         208           204           107   \n",
       "0               117      114         186           225           109   \n",
       "1               105       82         143           140           126   \n",
       "2                93       57          51            45           122   \n",
       "3                50       41          17            18           132   \n",
       "4                29       11          11             9            76   \n",
       "5                 4        6           2             5            55   \n",
       "[6,11)            2        9           2             1            44   \n",
       "[11,21)           0        0           0             0             0   \n",
       ">=21              0        0           0             0             0   \n",
       "\n",
       "            gcngru2gru-attn  transformer  \n",
       "lengthdiff                                \n",
       "<-20                      0            0  \n",
       "[-20,-10)                 1            2  \n",
       "[-10,-5)                 47           20  \n",
       "-5                       37           20  \n",
       "-4                       70           26  \n",
       "-3                       95           57  \n",
       "-2                      131           96  \n",
       "-1                      205          171  \n",
       "0                       206          245  \n",
       "1                       121          173  \n",
       "2                        55           87  \n",
       "3                        17           55  \n",
       "4                         8           17  \n",
       "5                         3           13  \n",
       "[6,11)                    4           15  \n",
       "[11,21)                   0            1  \n",
       ">=21                      0            2  "
      ]
     },
     "execution_count": 11,
     "metadata": {},
     "output_type": "execute_result"
    }
   ],
   "source": [
    "len_diff"
   ]
  },
  {
   "cell_type": "code",
   "execution_count": 64,
   "metadata": {},
   "outputs": [
    {
     "data": {
      "image/png": "[encoded data removed]",
      "text/plain": [
       "<Figure size 1152x576 with 1 Axes>"
      ]
     },
     "metadata": {
      "needs_background": "light"
     },
     "output_type": "display_data"
    }
   ],
   "source": [
    "df = len_diff.stack().to_frame()\n",
    "df = df.reset_index()\n",
    "df.columns = [\"length_diff\", \"model\", \"count\"]\n",
    "\n",
    "plt.figure(figsize=(16,8))\n",
    "sns.barplot(data=df, x=\"length_diff\", y=\"count\", hue=\"model\")\n",
    "plt.title(\"Count of Length Diff\")\n",
    "plt.savefig(\"plots/length-diff-counts.png\")\n",
    "plt.show()"
   ]
  },
  {
   "cell_type": "code",
   "execution_count": 12,
   "metadata": {},
   "outputs": [
    {
     "data": {
      "text/html": [
       "<div>\n",
       "<style scoped>\n",
       "    .dataframe tbody tr th:only-of-type {\n",
       "        vertical-align: middle;\n",
       "    }\n",
       "\n",
       "    .dataframe tbody tr th {\n",
       "        vertical-align: top;\n",
       "    }\n",
       "\n",
       "    .dataframe thead th {\n",
       "        text-align: right;\n",
       "    }\n",
       "</style>\n",
       "<table border=\"1\" class=\"dataframe\">\n",
       "  <thead>\n",
       "    <tr style=\"text-align: right;\">\n",
       "      <th></th>\n",
       "      <th>gru2gru</th>\n",
       "      <th>gcn2gru</th>\n",
       "      <th>gcngru2gru</th>\n",
       "      <th>gru2gru-attn</th>\n",
       "      <th>gcn2gru-attn</th>\n",
       "      <th>gcngru2gru-attn</th>\n",
       "      <th>transformer</th>\n",
       "    </tr>\n",
       "    <tr>\n",
       "      <th>sentbleu</th>\n",
       "      <th></th>\n",
       "      <th></th>\n",
       "      <th></th>\n",
       "      <th></th>\n",
       "      <th></th>\n",
       "      <th></th>\n",
       "      <th></th>\n",
       "    </tr>\n",
       "  </thead>\n",
       "  <tbody>\n",
       "    <tr>\n",
       "      <th>&lt;10.0</th>\n",
       "      <td>250</td>\n",
       "      <td>145</td>\n",
       "      <td>30</td>\n",
       "      <td>13</td>\n",
       "      <td>50</td>\n",
       "      <td>16</td>\n",
       "      <td>11</td>\n",
       "    </tr>\n",
       "    <tr>\n",
       "      <th>[10.0,20.0)</th>\n",
       "      <td>718</td>\n",
       "      <td>588</td>\n",
       "      <td>304</td>\n",
       "      <td>213</td>\n",
       "      <td>497</td>\n",
       "      <td>213</td>\n",
       "      <td>162</td>\n",
       "    </tr>\n",
       "    <tr>\n",
       "      <th>[20.0,30.0)</th>\n",
       "      <td>24</td>\n",
       "      <td>194</td>\n",
       "      <td>263</td>\n",
       "      <td>269</td>\n",
       "      <td>240</td>\n",
       "      <td>281</td>\n",
       "      <td>220</td>\n",
       "    </tr>\n",
       "    <tr>\n",
       "      <th>[30.0,40.0)</th>\n",
       "      <td>8</td>\n",
       "      <td>52</td>\n",
       "      <td>178</td>\n",
       "      <td>164</td>\n",
       "      <td>112</td>\n",
       "      <td>167</td>\n",
       "      <td>193</td>\n",
       "    </tr>\n",
       "    <tr>\n",
       "      <th>[40.0,50.0)</th>\n",
       "      <td>0</td>\n",
       "      <td>18</td>\n",
       "      <td>96</td>\n",
       "      <td>127</td>\n",
       "      <td>66</td>\n",
       "      <td>129</td>\n",
       "      <td>129</td>\n",
       "    </tr>\n",
       "    <tr>\n",
       "      <th>[50.0,60.0)</th>\n",
       "      <td>0</td>\n",
       "      <td>2</td>\n",
       "      <td>67</td>\n",
       "      <td>92</td>\n",
       "      <td>22</td>\n",
       "      <td>87</td>\n",
       "      <td>90</td>\n",
       "    </tr>\n",
       "    <tr>\n",
       "      <th>[60.0,70.0)</th>\n",
       "      <td>0</td>\n",
       "      <td>0</td>\n",
       "      <td>28</td>\n",
       "      <td>56</td>\n",
       "      <td>10</td>\n",
       "      <td>53</td>\n",
       "      <td>84</td>\n",
       "    </tr>\n",
       "    <tr>\n",
       "      <th>[70.0,80.0)</th>\n",
       "      <td>0</td>\n",
       "      <td>1</td>\n",
       "      <td>21</td>\n",
       "      <td>37</td>\n",
       "      <td>3</td>\n",
       "      <td>36</td>\n",
       "      <td>56</td>\n",
       "    </tr>\n",
       "    <tr>\n",
       "      <th>[80.0,90.0)</th>\n",
       "      <td>0</td>\n",
       "      <td>0</td>\n",
       "      <td>3</td>\n",
       "      <td>13</td>\n",
       "      <td>0</td>\n",
       "      <td>10</td>\n",
       "      <td>19</td>\n",
       "    </tr>\n",
       "    <tr>\n",
       "      <th>&gt;=90.0</th>\n",
       "      <td>0</td>\n",
       "      <td>0</td>\n",
       "      <td>10</td>\n",
       "      <td>16</td>\n",
       "      <td>0</td>\n",
       "      <td>8</td>\n",
       "      <td>36</td>\n",
       "    </tr>\n",
       "  </tbody>\n",
       "</table>\n",
       "</div>"
      ],
      "text/plain": [
       "             gru2gru  gcn2gru  gcngru2gru  gru2gru-attn  gcn2gru-attn  \\\n",
       "sentbleu                                                                \n",
       "<10.0            250      145          30            13            50   \n",
       "[10.0,20.0)      718      588         304           213           497   \n",
       "[20.0,30.0)       24      194         263           269           240   \n",
       "[30.0,40.0)        8       52         178           164           112   \n",
       "[40.0,50.0)        0       18          96           127            66   \n",
       "[50.0,60.0)        0        2          67            92            22   \n",
       "[60.0,70.0)        0        0          28            56            10   \n",
       "[70.0,80.0)        0        1          21            37             3   \n",
       "[80.0,90.0)        0        0           3            13             0   \n",
       ">=90.0             0        0          10            16             0   \n",
       "\n",
       "             gcngru2gru-attn  transformer  \n",
       "sentbleu                                   \n",
       "<10.0                     16           11  \n",
       "[10.0,20.0)              213          162  \n",
       "[20.0,30.0)              281          220  \n",
       "[30.0,40.0)              167          193  \n",
       "[40.0,50.0)              129          129  \n",
       "[50.0,60.0)               87           90  \n",
       "[60.0,70.0)               53           84  \n",
       "[70.0,80.0)               36           56  \n",
       "[80.0,90.0)               10           19  \n",
       ">=90.0                     8           36  "
      ]
     },
     "execution_count": 12,
     "metadata": {},
     "output_type": "execute_result"
    }
   ],
   "source": [
    "len_count"
   ]
  },
  {
   "cell_type": "code",
   "execution_count": 53,
   "metadata": {},
   "outputs": [
    {
     "data": {
      "image/png": "[encoded data removed]",
      "text/plain": [
       "<Figure size 864x576 with 1 Axes>"
      ]
     },
     "metadata": {
      "needs_background": "light"
     },
     "output_type": "display_data"
    }
   ],
   "source": [
    "df = len_count.stack().to_frame()\n",
    "df = df.reset_index()\n",
    "df.columns = [\"translation length\", \"model\", \"count\"]\n",
    "\n",
    "plt.figure(figsize=(12,8))\n",
    "sns.barplot(data=df, x=\"translation length\", y=\"count\", hue=\"model\")\n",
    "plt.title(\"Distr of Translation Length\")\n",
    "plt.show()"
   ]
  },
  {
   "cell_type": "code",
   "execution_count": 13,
   "metadata": {},
   "outputs": [
    {
     "data": {
      "text/html": [
       "<div>\n",
       "<style scoped>\n",
       "    .dataframe tbody tr th:only-of-type {\n",
       "        vertical-align: middle;\n",
       "    }\n",
       "\n",
       "    .dataframe tbody tr th {\n",
       "        vertical-align: top;\n",
       "    }\n",
       "\n",
       "    .dataframe thead th {\n",
       "        text-align: right;\n",
       "    }\n",
       "</style>\n",
       "<table border=\"1\" class=\"dataframe\">\n",
       "  <thead>\n",
       "    <tr style=\"text-align: right;\">\n",
       "      <th></th>\n",
       "      <th>gru2gru</th>\n",
       "      <th>gcn2gru</th>\n",
       "      <th>gcngru2gru</th>\n",
       "      <th>gru2gru-attn</th>\n",
       "      <th>gcn2gru-attn</th>\n",
       "      <th>gcngru2gru-attn</th>\n",
       "      <th>transformer</th>\n",
       "    </tr>\n",
       "    <tr>\n",
       "      <th>frequency</th>\n",
       "      <th></th>\n",
       "      <th></th>\n",
       "      <th></th>\n",
       "      <th></th>\n",
       "      <th></th>\n",
       "      <th></th>\n",
       "      <th></th>\n",
       "    </tr>\n",
       "  </thead>\n",
       "  <tbody>\n",
       "    <tr>\n",
       "      <th>&lt;1</th>\n",
       "      <td>0.0000</td>\n",
       "      <td>0.0000</td>\n",
       "      <td>0.0000</td>\n",
       "      <td>0.0000</td>\n",
       "      <td>0.0000</td>\n",
       "      <td>0.0000</td>\n",
       "      <td>0.0000</td>\n",
       "    </tr>\n",
       "    <tr>\n",
       "      <th>1</th>\n",
       "      <td>0.0000</td>\n",
       "      <td>0.0023</td>\n",
       "      <td>0.1716</td>\n",
       "      <td>0.2022</td>\n",
       "      <td>0.0368</td>\n",
       "      <td>0.2329</td>\n",
       "      <td>0.3174</td>\n",
       "    </tr>\n",
       "    <tr>\n",
       "      <th>2</th>\n",
       "      <td>0.0000</td>\n",
       "      <td>0.0349</td>\n",
       "      <td>0.2359</td>\n",
       "      <td>0.3098</td>\n",
       "      <td>0.1019</td>\n",
       "      <td>0.3743</td>\n",
       "      <td>0.4703</td>\n",
       "    </tr>\n",
       "    <tr>\n",
       "      <th>3</th>\n",
       "      <td>0.0000</td>\n",
       "      <td>0.0394</td>\n",
       "      <td>0.3248</td>\n",
       "      <td>0.4006</td>\n",
       "      <td>0.1497</td>\n",
       "      <td>0.4267</td>\n",
       "      <td>0.5256</td>\n",
       "    </tr>\n",
       "    <tr>\n",
       "      <th>4</th>\n",
       "      <td>0.0000</td>\n",
       "      <td>0.0728</td>\n",
       "      <td>0.3196</td>\n",
       "      <td>0.5062</td>\n",
       "      <td>0.1289</td>\n",
       "      <td>0.4554</td>\n",
       "      <td>0.5790</td>\n",
       "    </tr>\n",
       "    <tr>\n",
       "      <th>[5,10)</th>\n",
       "      <td>0.0000</td>\n",
       "      <td>0.0706</td>\n",
       "      <td>0.3913</td>\n",
       "      <td>0.5201</td>\n",
       "      <td>0.2452</td>\n",
       "      <td>0.5041</td>\n",
       "      <td>0.5923</td>\n",
       "    </tr>\n",
       "    <tr>\n",
       "      <th>[10,100)</th>\n",
       "      <td>0.0000</td>\n",
       "      <td>0.3042</td>\n",
       "      <td>0.6048</td>\n",
       "      <td>0.6746</td>\n",
       "      <td>0.4888</td>\n",
       "      <td>0.6677</td>\n",
       "      <td>0.7149</td>\n",
       "    </tr>\n",
       "    <tr>\n",
       "      <th>[100,1000)</th>\n",
       "      <td>0.4221</td>\n",
       "      <td>0.5564</td>\n",
       "      <td>0.6957</td>\n",
       "      <td>0.7248</td>\n",
       "      <td>0.6308</td>\n",
       "      <td>0.7245</td>\n",
       "      <td>0.7551</td>\n",
       "    </tr>\n",
       "    <tr>\n",
       "      <th>&gt;=1000</th>\n",
       "      <td>0.3423</td>\n",
       "      <td>0.5035</td>\n",
       "      <td>0.8188</td>\n",
       "      <td>0.8551</td>\n",
       "      <td>0.6100</td>\n",
       "      <td>0.8468</td>\n",
       "      <td>0.8920</td>\n",
       "    </tr>\n",
       "  </tbody>\n",
       "</table>\n",
       "</div>"
      ],
      "text/plain": [
       "            gru2gru  gcn2gru  gcngru2gru  gru2gru-attn  gcn2gru-attn  \\\n",
       "frequency                                                              \n",
       "<1           0.0000   0.0000      0.0000        0.0000        0.0000   \n",
       "1            0.0000   0.0023      0.1716        0.2022        0.0368   \n",
       "2            0.0000   0.0349      0.2359        0.3098        0.1019   \n",
       "3            0.0000   0.0394      0.3248        0.4006        0.1497   \n",
       "4            0.0000   0.0728      0.3196        0.5062        0.1289   \n",
       "[5,10)       0.0000   0.0706      0.3913        0.5201        0.2452   \n",
       "[10,100)     0.0000   0.3042      0.6048        0.6746        0.4888   \n",
       "[100,1000)   0.4221   0.5564      0.6957        0.7248        0.6308   \n",
       ">=1000       0.3423   0.5035      0.8188        0.8551        0.6100   \n",
       "\n",
       "            gcngru2gru-attn  transformer  \n",
       "frequency                                 \n",
       "<1                   0.0000       0.0000  \n",
       "1                    0.2329       0.3174  \n",
       "2                    0.3743       0.4703  \n",
       "3                    0.4267       0.5256  \n",
       "4                    0.4554       0.5790  \n",
       "[5,10)               0.5041       0.5923  \n",
       "[10,100)             0.6677       0.7149  \n",
       "[100,1000)           0.7245       0.7551  \n",
       ">=1000               0.8468       0.8920  "
      ]
     },
     "execution_count": 13,
     "metadata": {},
     "output_type": "execute_result"
    }
   ],
   "source": [
    "word_fleas"
   ]
  },
  {
   "cell_type": "markdown",
   "metadata": {},
   "source": [
    "by involving gcn into the decoder, the gru was able to capture much more rare words, for words less than or equal to 3."
   ]
  },
  {
   "cell_type": "code",
   "execution_count": null,
   "metadata": {},
   "outputs": [],
   "source": []
  },
  {
   "cell_type": "code",
   "execution_count": null,
   "metadata": {},
   "outputs": [],
   "source": []
  }
 ],
 "metadata": {
  "kernelspec": {
   "display_name": "viz",
   "language": "python",
   "name": "visualization"
  },
  "language_info": {
   "codemirror_mode": {
    "name": "ipython",
    "version": 3
   },
   "file_extension": ".py",
   "mimetype": "text/x-python",
   "name": "python",
   "nbconvert_exporter": "python",
   "pygments_lexer": "ipython3",
   "version": "3.8.2"
  }
 },
 "nbformat": 4,
 "nbformat_minor": 4
}
