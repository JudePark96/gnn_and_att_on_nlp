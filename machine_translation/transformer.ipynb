{
 "cells": [
  {
   "cell_type": "markdown",
   "metadata": {},
   "source": [
    "### Transformer\n",
    "\n",
    "Code referenced and adopted from https://github.com/bentrevett/pytorch-seq2seq"
   ]
  },
  {
   "cell_type": "code",
   "execution_count": 1,
   "metadata": {},
   "outputs": [],
   "source": [
    "import torch\n",
    "import torch.nn as nn\n",
    "import torch.optim as optim\n",
    "\n",
    "import torchtext\n",
    "from torchtext.datasets import TranslationDataset, Multi30k\n",
    "from torchtext.data import Field, BucketIterator\n",
    "\n",
    "import matplotlib.pyplot as plt\n",
    "import matplotlib.ticker as ticker\n",
    "\n",
    "import spacy\n",
    "import numpy as np\n",
    "\n",
    "import random\n",
    "import math\n",
    "import time"
   ]
  },
  {
   "cell_type": "code",
   "execution_count": 2,
   "metadata": {},
   "outputs": [],
   "source": [
    "SEED = 11747\n",
    "\n",
    "random.seed(SEED)\n",
    "np.random.seed(SEED)\n",
    "torch.manual_seed(SEED)\n",
    "torch.cuda.manual_seed(SEED)\n",
    "torch.backends.cudnn.deterministic = True"
   ]
  },
  {
   "cell_type": "code",
   "execution_count": 3,
   "metadata": {},
   "outputs": [],
   "source": [
    "spacy_de = spacy.load('de')\n",
    "spacy_en = spacy.load('en')\n",
    "\n",
    "def tokenize_de(text):\n",
    "    return [tok.text for tok in spacy_de.tokenizer(text)]\n",
    "\n",
    "def tokenize_en(text):\n",
    "    return [tok.text for tok in spacy_en.tokenizer(text)]"
   ]
  },
  {
   "cell_type": "code",
   "execution_count": 4,
   "metadata": {},
   "outputs": [],
   "source": [
    "SRC = Field(tokenize = tokenize_en, \n",
    "            init_token = '<sos>', \n",
    "            eos_token = '<eos>', \n",
    "            lower = True)\n",
    "\n",
    "TGT = Field(tokenize = tokenize_de, \n",
    "            init_token = '<sos>', \n",
    "            eos_token = '<eos>', \n",
    "            lower = True)"
   ]
  },
  {
   "cell_type": "code",
   "execution_count": 5,
   "metadata": {},
   "outputs": [],
   "source": [
    "train_data, valid_data, test_data = Multi30k.splits(exts = ('.en', '.de'), \n",
    "                                                    fields = (SRC, TGT))"
   ]
  },
  {
   "cell_type": "code",
   "execution_count": 6,
   "metadata": {},
   "outputs": [
    {
     "name": "stdout",
     "output_type": "stream",
     "text": [
      "Number of training examples: 29000\n",
      "Number of validation examples: 1014\n",
      "Number of testing examples: 1000\n"
     ]
    }
   ],
   "source": [
    "print(f\"Number of training examples: {len(train_data.examples)}\")\n",
    "print(f\"Number of validation examples: {len(valid_data.examples)}\")\n",
    "print(f\"Number of testing examples: {len(test_data.examples)}\")"
   ]
  },
  {
   "cell_type": "code",
   "execution_count": 7,
   "metadata": {},
   "outputs": [
    {
     "name": "stdout",
     "output_type": "stream",
     "text": [
      "Unique tokens in source (de) vocabulary: 5893\n",
      "Unique tokens in target (en) vocabulary: 7855\n"
     ]
    }
   ],
   "source": [
    "SRC.build_vocab(train_data, min_freq = 2)\n",
    "TGT.build_vocab(train_data, min_freq = 2)\n",
    "\n",
    "print(f\"Unique tokens in source (de) vocabulary: {len(SRC.vocab)}\")\n",
    "print(f\"Unique tokens in target (en) vocabulary: {len(TGT.vocab)}\")"
   ]
  },
  {
   "cell_type": "code",
   "execution_count": 8,
   "metadata": {},
   "outputs": [],
   "source": [
    "device = torch.device('cuda' if torch.cuda.is_available() else 'cpu')"
   ]
  },
  {
   "cell_type": "code",
   "execution_count": 9,
   "metadata": {},
   "outputs": [],
   "source": [
    "BATCH_SIZE = 128\n",
    "\n",
    "train_iterator, valid_iterator, test_iterator = BucketIterator.splits(\n",
    "    (train_data, valid_data, test_data), \n",
    "    batch_size = BATCH_SIZE, \n",
    "    device = device)"
   ]
  },
  {
   "cell_type": "code",
   "execution_count": 10,
   "metadata": {},
   "outputs": [],
   "source": [
    "class Encoder(nn.Module):\n",
    "    def __init__(self, ninp, nhid, nlayers, nheads, pfdim, dropout, device, max_len=100):\n",
    "        super(Encoder, self).__init__()\n",
    "        self.device = device\n",
    "        self.tok_embedding = nn.Embedding(ninp, nhid)\n",
    "        self.pos_embedding = nn.Embedding(max_len, nhid)\n",
    "        self.layers = nn.ModuleList([EncoderLayer(nhid, nheads, pfdim, dropout, device)\n",
    "                                     for _ in range(nlayers)])\n",
    "        self.dropout = nn.Dropout(dropout)\n",
    "        self.scale = torch.sqrt(torch.FloatTensor([nhid])).to(device)\n",
    "        \n",
    "    def forward(self, src, src_mask):\n",
    "        # src: (b, s)\n",
    "        # src_mask: (b, s)\n",
    "        b, s = src.shape\n",
    "        pos = torch.arange(0, s).unsqueeze(0).repeat(b, 1).to(self.device)\n",
    "        src = self.dropout((self.tok_embedding(src)*self.scale+self.pos_embedding(pos)))\n",
    "        for layer in self.layers:\n",
    "            src = layer(src, src_mask)\n",
    "        return src"
   ]
  },
  {
   "cell_type": "code",
   "execution_count": 11,
   "metadata": {},
   "outputs": [],
   "source": [
    "class EncoderLayer(nn.Module):\n",
    "    def __init__(self, nhid, nheads, pfdim, dropout, device, max_len=100):\n",
    "        super(EncoderLayer, self).__init__()\n",
    "        self.self_attn_layer_norm = nn.LayerNorm(nhid)\n",
    "        self.ff_layer_norm = nn.LayerNorm(nhid)\n",
    "        self.self_attn = MultiHeadAttentionLayer(nhid, nheads, dropout, device)\n",
    "        self.positionwise_ff = PositionwiseFeedforwardLayer(nhid, pfdim, dropout)\n",
    "        self.dropout = nn.Dropout(dropout)\n",
    "        \n",
    "    def forward(self, src, src_mask):\n",
    "        # src: (b, s, nhid)\n",
    "        # src_mask: (b, s)\n",
    "        _src, _ = self.self_attn(src, src, src, src_mask)\n",
    "        src = self.self_attn_layer_norm(src+self.dropout(_src))\n",
    "        # src: (b, s, nhid)\n",
    "        _src = self.positionwise_ff(src)\n",
    "        src = self.ff_layer_norm(src+self.dropout(_src))\n",
    "        # src: (b, s, nhid)\n",
    "        return src"
   ]
  },
  {
   "cell_type": "code",
   "execution_count": 12,
   "metadata": {},
   "outputs": [],
   "source": [
    "class MultiHeadAttentionLayer(nn.Module):\n",
    "    def __init__(self, nhid, nheads, dropout, device):\n",
    "        super(MultiHeadAttentionLayer, self).__init__()\n",
    "        assert(nhid % nheads == 0)\n",
    "        \n",
    "        self.nhid = nhid\n",
    "        self.nheads = nheads\n",
    "        self.head_dim = nhid // nheads\n",
    "        \n",
    "        self.fc_q = nn.Linear(nhid, nhid)\n",
    "        self.fc_k = nn.Linear(nhid, nhid)\n",
    "        self.fc_v = nn.Linear(nhid, nhid)\n",
    "        self.fc_o = nn.Linear(nhid, nhid)\n",
    "        \n",
    "        self.dropout = nn.Dropout(dropout)\n",
    "        self.scale = torch.sqrt(torch.FloatTensor([self.head_dim])).to(device)\n",
    "        \n",
    "    def forward(self, query, key, value, mask=None):\n",
    "        b = query.shape[0]\n",
    "        \n",
    "        # query: (b, ql, nhid), key: (b, kl, nhid), value: (b, vl, nhid)\n",
    "        Q = self.fc_q(query)\n",
    "        K = self.fc_k(key)\n",
    "        V = self.fc_v(value)\n",
    "        \n",
    "        Q = Q.view(b, -1, self.nheads, self.head_dim).permute(0, 2, 1, 3)\n",
    "        K = K.view(b, -1, self.nheads, self.head_dim).permute(0, 2, 1, 3)\n",
    "        V = V.view(b, -1, self.nheads, self.head_dim).permute(0, 2, 1, 3)\n",
    "        # Q: (b, nheads, ql, head_dim)\n",
    "        # K: (b, nheads, kl, head_dim)\n",
    "        # V: (b, nheads, vl, head_dim)\n",
    "        \n",
    "        energy = torch.matmul(Q, K.permute(0, 1, 3, 2)) / self.scale\n",
    "        # energy: (b, nheads, ql, kl)\n",
    "        if mask is not None:\n",
    "            energy = energy.masked_fill(mask==0, -1e10)\n",
    "        \n",
    "        attn = torch.softmax(energy, dim=-1)\n",
    "        x = torch.matmul(self.dropout(attn), V)\n",
    "        x = x.permute(0, 2, 1, 3).contiguous()\n",
    "        x = x.view(b, -1, self.nhid)\n",
    "        x = self.fc_o(x)\n",
    "        return x, attn"
   ]
  },
  {
   "cell_type": "code",
   "execution_count": 13,
   "metadata": {},
   "outputs": [],
   "source": [
    "class PositionwiseFeedforwardLayer(nn.Module):\n",
    "    def __init__(self, nhid, pfdim, dropout):\n",
    "        super(PositionwiseFeedforwardLayer, self).__init__()\n",
    "        self.fc_1 = nn.Linear(nhid, pfdim)\n",
    "        self.fc_2 = nn.Linear(pfdim, nhid)\n",
    "        self.dropout = nn.Dropout(dropout)\n",
    "        \n",
    "    def forward(self, x):\n",
    "        # x: (b, s, nhid)\n",
    "        x = self.dropout(torch.relu(self.fc_1(x)))\n",
    "        x = self.fc_2(x)\n",
    "        return x"
   ]
  },
  {
   "cell_type": "code",
   "execution_count": 14,
   "metadata": {},
   "outputs": [],
   "source": [
    "class Decoder(nn.Module):\n",
    "    def __init__(self, nout, nhid, nlayers, nheads, pfdim, dropout, device, max_len=100):\n",
    "        super(Decoder, self).__init__()\n",
    "        self.device = device\n",
    "        self.tok_embedding = nn.Embedding(nout, nhid)\n",
    "        self.pos_embedding = nn.Embedding(max_len, nhid)\n",
    "        self.layers = nn.ModuleList([DecoderLayer(nhid, nheads, pfdim, dropout, device)\n",
    "                                     for _ in range(nlayers)])\n",
    "        self.fc_out = nn.Linear(nhid, nout)\n",
    "        self.dropout = nn.Dropout(dropout)\n",
    "        self.scale = torch.sqrt(torch.FloatTensor([nhid])).to(device)\n",
    "        \n",
    "    def forward(self, tgt, enc_src, tgt_mask, src_mask):\n",
    "        b, tgt_len = tgt.shape\n",
    "        pos = torch.arange(0, tgt_len).unsqueeze(0).repeat(b, 1).to(self.device)\n",
    "        tgt = self.dropout((self.tok_embedding(tgt)*self.scale)+self.pos_embedding(pos))\n",
    "        for layer in self.layers:\n",
    "            tgt, attn = layer(tgt, enc_src, tgt_mask, src_mask)\n",
    "        out = self.fc_out(tgt)\n",
    "        return out, attn\n",
    "    \n",
    "class DecoderLayer(nn.Module):\n",
    "    def __init__(self, nhid, nheads, pfdim, dropout, device):\n",
    "        super(DecoderLayer, self).__init__()\n",
    "        self.self_attn_layer_norm = nn.LayerNorm(nhid)\n",
    "        self.enc_attn_layer_norm = nn.LayerNorm(nhid)\n",
    "        self.ff_layer_norm = nn.LayerNorm(nhid)\n",
    "        self.self_attn = MultiHeadAttentionLayer(nhid, nheads, dropout, device)\n",
    "        self.encoder_attn = MultiHeadAttentionLayer(nhid, nheads, dropout, device)\n",
    "        self.positionwise_feedforward = PositionwiseFeedforwardLayer(nhid, pfdim, dropout)\n",
    "        self.dropout = nn.Dropout(dropout)\n",
    "        \n",
    "    def forward(self, tgt, enc_src, tgt_mask, src_mask):\n",
    "        \"\"\"\n",
    "        tgt: (b, tgt_len, nhid)\n",
    "        enc_src: (b, sec_len, nhid)\n",
    "        tgt_mask: (b, tgt_len)\n",
    "        src_mask: (b, src_len)\n",
    "        \"\"\"\n",
    "        _tgt, _ = self.self_attn(tgt, tgt, tgt, tgt_mask)\n",
    "        tgt = self.self_attn_layer_norm(tgt+self.dropout(_tgt))\n",
    "        \n",
    "        _tgt, attn = self.encoder_attn(tgt, enc_src, enc_src, src_mask)\n",
    "        tgt = self.enc_attn_layer_norm(tgt+self.dropout(_tgt))\n",
    "        \n",
    "        _tgt = self.positionwise_feedforward(tgt)\n",
    "        tgt = self.ff_layer_norm(tgt+self.dropout(_tgt))\n",
    "        return tgt, attn"
   ]
  },
  {
   "cell_type": "code",
   "execution_count": 15,
   "metadata": {},
   "outputs": [],
   "source": [
    "class Seq2Seq(nn.Module):\n",
    "    def __init__(self, encoder, decoder, src_pad_idx, tgt_pad_idx, device):\n",
    "        super(Seq2Seq, self).__init__()\n",
    "        self.encoder = encoder\n",
    "        self.decoder = decoder\n",
    "        self.src_pad_idx = src_pad_idx\n",
    "        self.tgt_pad_idx = tgt_pad_idx\n",
    "        self.device = device\n",
    "        \n",
    "    def make_src_mask(self, src):\n",
    "        # src: (b, s)\n",
    "        src_mask = (src != self.src_pad_idx).unsqueeze(1).unsqueeze(2)\n",
    "        # src_mask: (b, 1, 1, s)\n",
    "        return src_mask\n",
    "    \n",
    "    def make_tgt_mask(self, tgt):\n",
    "        tgt_pad_mask = (tgt != self.tgt_pad_idx).unsqueeze(1).unsqueeze(2)\n",
    "        # tgt_pad_mask: (b, 1, 1, tgt len)\n",
    "        tgt_len = tgt.shape[1]\n",
    "        tgt_sub_mask = torch.tril(torch.ones((tgt_len, tgt_len), device=self.device)).bool()\n",
    "        # tgt_sub_mask: (b, tgt len)\n",
    "        tgt_mask = tgt_pad_mask & tgt_sub_mask\n",
    "        # tgt_mask: (b, 1, tgt len, tgt len)\n",
    "        \n",
    "    def forward(self, src, tgt):\n",
    "        # src: (b, src len)\n",
    "        # tgt: (b, tgt len)\n",
    "        src_mask = self.make_src_mask(src)  # (b, 1, 1, src len)\n",
    "        tgt_mask = self.make_tgt_mask(tgt)  # (b, 1, tgt len, tgt len)\n",
    "        \n",
    "        enc_src = self.encoder(src, src_mask)\n",
    "        out, attn = self.decoder(tgt, enc_src, tgt_mask, src_mask)\n",
    "        # out: (b, tgt len, nout)\n",
    "        # attn: (b, nheads, tgt len, src len)\n",
    "        return out, attn"
   ]
  },
  {
   "cell_type": "code",
   "execution_count": 16,
   "metadata": {},
   "outputs": [],
   "source": [
    "INPUT_DIM = len(SRC.vocab)\n",
    "OUTPUT_DIM = len(TGT.vocab)\n",
    "HID_DIM = 256\n",
    "ENC_LAYERS = 3\n",
    "DEC_LAYERS = 3\n",
    "ENC_HEADS = 8\n",
    "DEC_HEADS = 8\n",
    "ENC_PF_DIM = 512\n",
    "DEC_PF_DIM = 512\n",
    "ENC_DROPOUT = 0.1\n",
    "DEC_DROPOUT = 0.1\n",
    "MAX_LEN = 150\n",
    "\n",
    "SRC_PAD_IDX = SRC.vocab.stoi[SRC.pad_token]\n",
    "TGT_PAD_IDX = TGT.vocab.stoi[TGT.pad_token]\n",
    "\n",
    "enc = Encoder(INPUT_DIM, \n",
    "              HID_DIM, \n",
    "              ENC_LAYERS, \n",
    "              ENC_HEADS, \n",
    "              ENC_PF_DIM, \n",
    "              ENC_DROPOUT, \n",
    "              device,\n",
    "              MAX_LEN)\n",
    "\n",
    "dec = Decoder(OUTPUT_DIM, \n",
    "              HID_DIM, \n",
    "              DEC_LAYERS, \n",
    "              DEC_HEADS, \n",
    "              DEC_PF_DIM, \n",
    "              DEC_DROPOUT, \n",
    "              device,\n",
    "              MAX_LEN)\n",
    "\n",
    "model = Seq2Seq(enc, dec, SRC_PAD_IDX, TGT_PAD_IDX, device).to(device)"
   ]
  },
  {
   "cell_type": "code",
   "execution_count": 17,
   "metadata": {},
   "outputs": [
    {
     "name": "stdout",
     "output_type": "stream",
     "text": [
      "The model has 9,568,687 trainable parameters\n"
     ]
    }
   ],
   "source": [
    "def count_parameters(model):\n",
    "    return sum(p.numel() for p in model.parameters() if p.requires_grad)\n",
    "\n",
    "print(f'The model has {count_parameters(model):,} trainable parameters')"
   ]
  },
  {
   "cell_type": "code",
   "execution_count": 18,
   "metadata": {},
   "outputs": [],
   "source": [
    "def initialize_weights(m):\n",
    "    if hasattr(m, 'weight') and m.weight.dim() > 1:\n",
    "        nn.init.xavier_uniform_(m.weight.data)"
   ]
  },
  {
   "cell_type": "code",
   "execution_count": 19,
   "metadata": {},
   "outputs": [],
   "source": [
    "model.apply(initialize_weights);"
   ]
  },
  {
   "cell_type": "code",
   "execution_count": 20,
   "metadata": {},
   "outputs": [],
   "source": [
    "lr = 0.0005\n",
    "optimizer = optim.Adam(model.parameters(), lr=lr)\n",
    "criterion = nn.CrossEntropyLoss(ignore_index=TGT_PAD_IDX)"
   ]
  },
  {
   "cell_type": "code",
   "execution_count": 21,
   "metadata": {},
   "outputs": [],
   "source": [
    "def train_epoch(model, iterator, optim, criterion, clip):\n",
    "    model.train()\n",
    "    epoch_loss = 0\n",
    "    for i, batch in enumerate(iterator):\n",
    "        src = batch.src.t()\n",
    "        tgt = batch.trg.t()     \n",
    "        optimizer.zero_grad()\n",
    "        out, _ = model(src, tgt[:,:-1])  # tgt sent excluding <eos>\n",
    "        nout = out.shape[-1]\n",
    "\n",
    "        out = out.contiguous().view(-1, nout)\n",
    "        tgt = tgt[:,1:].contiguous().view(-1)\n",
    "        \n",
    "        loss = criterion(out, tgt)\n",
    "        loss.backward()\n",
    "        nn.utils.clip_grad_norm_(model.parameters(), clip)\n",
    "        optimizer.step()\n",
    "        epoch_loss += loss.item()\n",
    "        \n",
    "    return epoch_loss / len(iterator)\n",
    "\n",
    "def evaluate(model, iterator, criterion):\n",
    "    model.eval()\n",
    "    epoch_loss = 0\n",
    "    with torch.no_grad():\n",
    "        for i, batch in enumerate(iterator):\n",
    "            src = batch.src.t()\n",
    "            tgt = batch.trg.t()\n",
    "            out, _ = model(src, tgt[:,:-1])\n",
    "            nout = out.shape[-1]\n",
    "            out = out.contiguous().view(-1, nout)\n",
    "            tgt = tgt[:,1:].contiguous().view(-1)\n",
    "            loss = criterion(out, tgt)\n",
    "            epoch_loss += loss.item()\n",
    "    return epoch_loss / len(iterator)\n",
    "\n",
    "def epoch_time(start_time, end_time):\n",
    "    elapsed_time = end_time - start_time\n",
    "    elapsed_mins = int(elapsed_time / 60)\n",
    "    elapsed_secs = int(elapsed_time - (elapsed_mins * 60))\n",
    "    return elapsed_mins, elapsed_secs"
   ]
  },
  {
   "cell_type": "code",
   "execution_count": null,
   "metadata": {},
   "outputs": [],
   "source": [
    "N_EPOCHS = 10\n",
    "CLIP = 1\n",
    "best_valid_loss = float('inf')\n",
    "for epoch in range(N_EPOCHS):\n",
    "    start = time.time()\n",
    "    train_loss = train_epoch(model, train_iterator, optimizer, criterion, CLIP)\n",
    "    valid_loss = evaluate(model, valid_iterator, criterion)\n",
    "    end = time.time()\n",
    "    epoch_mins, epoch_secs = epoch_time(start, end)\n",
    "    \n",
    "    if valid_loss < best_valid_loss:\n",
    "        best_valid_loss = valid_loss\n",
    "        torch.save(model.state_dict(), 'tut6-model.pt')\n",
    "    \n",
    "    print(f'Epoch: {epoch+1:02} | Time: {epoch_mins}m {epoch_secs}s')\n",
    "    print(f'\\tTrain Loss: {train_loss:.3f} | Train PPL: {math.exp(train_loss):7.3f}')\n",
    "    print(f'\\t Val. Loss: {valid_loss:.3f} |  Val. PPL: {math.exp(valid_loss):7.3f}')\n"
   ]
  },
  {
   "cell_type": "code",
   "execution_count": 23,
   "metadata": {},
   "outputs": [
    {
     "name": "stdout",
     "output_type": "stream",
     "text": [
      "| Test Loss: 0.016 | Test PPL:   1.016 |\n"
     ]
    }
   ],
   "source": [
    "model.load_state_dict(torch.load('tut6-model.pt'))\n",
    "\n",
    "test_loss = evaluate(model, test_iterator, criterion)\n",
    "\n",
    "print(f'| Test Loss: {test_loss:.3f} | Test PPL: {math.exp(test_loss):7.3f} |')"
   ]
  },
  {
   "cell_type": "code",
   "execution_count": null,
   "metadata": {},
   "outputs": [],
   "source": []
  }
 ],
 "metadata": {
  "kernelspec": {
   "display_name": "conda_pytorch_p36",
   "language": "python",
   "name": "conda_pytorch_p36"
  },
  "language_info": {
   "codemirror_mode": {
    "name": "ipython",
    "version": 3
   },
   "file_extension": ".py",
   "mimetype": "text/x-python",
   "name": "python",
   "nbconvert_exporter": "python",
   "pygments_lexer": "ipython3",
   "version": "3.6.5"
  }
 },
 "nbformat": 4,
 "nbformat_minor": 4
}
