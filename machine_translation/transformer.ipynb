{
 "cells": [
  {
   "cell_type": "markdown",
   "metadata": {},
   "source": [
    "### Transformer"
   ]
  },
  {
   "cell_type": "code",
   "execution_count": 1,
   "metadata": {},
   "outputs": [],
   "source": [
    "import torch\n",
    "import torch.nn as nn\n",
    "import torch.optim as optim\n",
    "\n",
    "import torchtext\n",
    "from torchtext.datasets import TranslationDataset, Multi30k\n",
    "from torchtext.data import Field, BucketIterator\n",
    "\n",
    "import matplotlib.pyplot as plt\n",
    "import matplotlib.ticker as ticker\n",
    "\n",
    "import spacy\n",
    "import numpy as np\n",
    "\n",
    "import random\n",
    "import math\n",
    "import time"
   ]
  },
  {
   "cell_type": "code",
   "execution_count": 2,
   "metadata": {},
   "outputs": [],
   "source": [
    "SEED = 11747\n",
    "\n",
    "random.seed(SEED)\n",
    "np.random.seed(SEED)\n",
    "torch.manual_seed(SEED)\n",
    "torch.cuda.manual_seed(SEED)\n",
    "torch.backends.cudnn.deterministic = True"
   ]
  },
  {
   "cell_type": "code",
   "execution_count": 6,
   "metadata": {},
   "outputs": [],
   "source": [
    "spacy_de = spacy.load('de')\n",
    "spacy_en = spacy.load('en')\n",
    "\n",
    "def tokenize_de(text):\n",
    "    return [tok.text for tok in spacy_de.tokenizer(text)]\n",
    "\n",
    "def tokenize_en(text):\n",
    "    return [tok.text for tok in spacy_en.tokenizer(text)]"
   ]
  },
  {
   "cell_type": "code",
   "execution_count": 7,
   "metadata": {},
   "outputs": [],
   "source": [
    "SRC = Field(tokenize = tokenize_en, \n",
    "            init_token = '<sos>', \n",
    "            eos_token = '<eos>', \n",
    "            lower = True)\n",
    "\n",
    "TGT = Field(tokenize = tokenize_de, \n",
    "            init_token = '<sos>', \n",
    "            eos_token = '<eos>', \n",
    "            lower = True)"
   ]
  },
  {
   "cell_type": "code",
   "execution_count": 8,
   "metadata": {},
   "outputs": [],
   "source": [
    "train_data, valid_data, test_data = Multi30k.splits(exts = ('.en', '.de'), \n",
    "                                                    fields = (SRC, TGT))"
   ]
  },
  {
   "cell_type": "code",
   "execution_count": 9,
   "metadata": {},
   "outputs": [
    {
     "name": "stdout",
     "output_type": "stream",
     "text": [
      "Number of training examples: 29000\n",
      "Number of validation examples: 1014\n",
      "Number of testing examples: 1000\n"
     ]
    }
   ],
   "source": [
    "print(f\"Number of training examples: {len(train_data.examples)}\")\n",
    "print(f\"Number of validation examples: {len(valid_data.examples)}\")\n",
    "print(f\"Number of testing examples: {len(test_data.examples)}\")"
   ]
  },
  {
   "cell_type": "code",
   "execution_count": 10,
   "metadata": {},
   "outputs": [
    {
     "name": "stdout",
     "output_type": "stream",
     "text": [
      "Unique tokens in source (de) vocabulary: 5893\n",
      "Unique tokens in target (en) vocabulary: 7855\n"
     ]
    }
   ],
   "source": [
    "SRC.build_vocab(train_data, min_freq = 2)\n",
    "TGT.build_vocab(train_data, min_freq = 2)\n",
    "\n",
    "print(f\"Unique tokens in source (de) vocabulary: {len(SRC.vocab)}\")\n",
    "print(f\"Unique tokens in target (en) vocabulary: {len(TGT.vocab)}\")"
   ]
  },
  {
   "cell_type": "code",
   "execution_count": 11,
   "metadata": {},
   "outputs": [],
   "source": [
    "device = torch.device('cuda' if torch.cuda.is_available() else 'cpu')"
   ]
  },
  {
   "cell_type": "code",
   "execution_count": 12,
   "metadata": {},
   "outputs": [],
   "source": [
    "BATCH_SIZE = 128\n",
    "\n",
    "train_iterator, valid_iterator, test_iterator = BucketIterator.splits(\n",
    "    (train_data, valid_data, test_data), \n",
    "    batch_size = BATCH_SIZE, \n",
    "    device = device)"
   ]
  },
  {
   "cell_type": "code",
   "execution_count": 14,
   "metadata": {},
   "outputs": [],
   "source": [
    "class Encoder(nn.Module):\n",
    "    def __init__(self, ninp, nhid, nlayers, nheads, pfdim, dropout, device, max_len=100):\n",
    "        super(Encoder, self).__init__()\n",
    "        self.device = device\n",
    "        self.tok_embedding = nn.Embedding(ninp, nhid)\n",
    "        self.pos_embedding = nn.Embedding(max_len, nhid)\n",
    "        self.layers = nn.ModuleList([EncoderLayer(nhid, nheads, pfdim, dropout,device)\n",
    "                                     for _ in range(n_layers)])\n",
    "        self.dropout = nn.Dropout(dropout)\n",
    "        self.scale = torch.sqrt(torch.FloatTensor([nhid])).to(device)\n",
    "        \n",
    "    def forward(self, src, src_mask):\n",
    "        # src: (b, s)\n",
    "        # src_mask: (b, s)\n",
    "        b, s = src.shape\n",
    "        pos = torch.arange(0, src_len).unsqueeze(0).repeat(b, 1).to(self.device)\n",
    "        src = self.dropout((self.tok_embedding(src)*self.scale+self.pos_embedding(pos)))\n",
    "        for layer in self.layers:\n",
    "            src = layer(src, src_mask)\n",
    "        return src"
   ]
  },
  {
   "cell_type": "code",
   "execution_count": 13,
   "metadata": {},
   "outputs": [],
   "source": [
    "class EncoderLayer(nn.Module):\n",
    "    def __init__(self, ninp, nhid, nlayers, nheads, pfdim, dropout, device, max_len=100):\n",
    "        super(EncoderLayer, self).__init__()\n",
    "        self.self_attn_layer_norm = nn.LayerNorm(nhid)\n",
    "        self.ff_layer_norm = nn.LayerNorm(nhid)\n",
    "        self.self_attn = MultiHeadAttentionLayer(nhid, nheads, dropout, device)\n",
    "        self.positionwise_ff = PositionwiseFeedforwardLayer(nhid, pfdim, dropout)\n",
    "        self.dropout = nn.Dropout(dropout)\n",
    "        \n",
    "    def forward(self, src, src_mask):\n",
    "        # src: (b, s, nhid)\n",
    "        # src_mask: (b, s)\n",
    "        _src, _ = self.self_attn(src, src, src, src_mask)\n",
    "        src = self.self_attn_layer_norm(src+self.dropout(_src))\n",
    "        # src: (b, s, nhid)\n",
    "        _src = self.positionwise_ff(src)\n",
    "        src = self.ff_layer_norm(src+self.dropout(_src))\n",
    "        # src: (b, s, nhid)\n",
    "        return src"
   ]
  },
  {
   "cell_type": "code",
   "execution_count": 15,
   "metadata": {},
   "outputs": [],
   "source": [
    "class MultiHeadAttentionLayer(nn.Module):\n",
    "    def __init__(self, nhid, nheads, dropout, device):\n",
    "        super(MultiHeadAttentionLayer, self).__init__()\n",
    "        assert(nhid % nheads == 0)\n",
    "        \n",
    "        self.nhid = nhid\n",
    "        self.nheads = nheads\n",
    "        self.head_dim = nhid // nheads\n",
    "        \n",
    "        self.fc_q = nn.Linear(nhid, nhid)\n",
    "        self.fc_k = nn.Linear(nhid, nhid)\n",
    "        self.fc_v = nn.Linear(nhid, nhid)\n",
    "        self.fc_o = nn.Linear(nhid, nhid)\n",
    "        \n",
    "        self.dropout = nn.Dropout(dropout)\n",
    "        self.scale = torch.sqrt(torch.FloatTensor([self.head_dim])),to(device)\n",
    "        \n",
    "    def forward(self, query, key, value, mask=None):\n",
    "        b = query.shape[0]\n",
    "        \n",
    "        # query: (b, ql, nhid), key: (b, kl, nhid), value: (b, vl, nhid)\n",
    "        Q = self.fc_q(query)\n",
    "        K = self.fc_k(key)\n",
    "        V = self.fc_v(value)\n",
    "        \n",
    "        Q = Q.view(b, -1, self.nheads, self.head_dim).permute(0, 2, 1, 3)\n",
    "        K = K.view(b, -1, self.nheads, self.head_dim).permute(0, 2, 1, 3)\n",
    "        V = V.view(b, -1, self.nheads, self.head_dim).permute(0, 2, 1, 3)\n",
    "        # Q: (b, nheads, ql, head_dim)\n",
    "        # K: (b, nheads, kl, head_dim)\n",
    "        # V: (b, nheads, vl, head_dim)\n",
    "        \n",
    "        energy = torch.matmul(Q, K.permute(0, 1, 3, 2)) / self.scale\n",
    "        # energy: (b, nheads, ql, kl)\n",
    "        if mask is not None:\n",
    "            energy = energy.masked_fill(mask==0, -1e10)\n",
    "        \n",
    "        attn = torch.softmax(energy, dim=-1)\n",
    "        x = torch.matmul(self.dropout(attn), V)\n",
    "        x = x.permute(0, 2, 1, 3).contiguous()\n",
    "        x = x.view(b, -1, self.nhid)\n",
    "        x = self.fc_o(x)\n",
    "        return x, attn"
   ]
  },
  {
   "cell_type": "code",
   "execution_count": null,
   "metadata": {},
   "outputs": [],
   "source": []
  }
 ],
 "metadata": {
  "kernelspec": {
   "display_name": "conda_pytorch_p36",
   "language": "python",
   "name": "conda_pytorch_p36"
  },
  "language_info": {
   "codemirror_mode": {
    "name": "ipython",
    "version": 3
   },
   "file_extension": ".py",
   "mimetype": "text/x-python",
   "name": "python",
   "nbconvert_exporter": "python",
   "pygments_lexer": "ipython3",
   "version": "3.6.5"
  }
 },
 "nbformat": 4,
 "nbformat_minor": 4
}
