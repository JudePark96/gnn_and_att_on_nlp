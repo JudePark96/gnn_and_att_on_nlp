{
 "cells": [
  {
   "cell_type": "code",
   "execution_count": 45,
   "metadata": {},
   "outputs": [],
   "source": [
    "import re, sys, os, yaml\n",
    "import numpy as np\n",
    "import pandas as pd\n",
    "from time import time\n",
    "\n",
    "sys.path.append('..')\n",
    "from preprocess.utils import TextConverter, IOHelper\n",
    "from preprocess.data import TextDataForTC\n",
    "from preprocess.build_feature import TextHeteroGraphBuilder\n",
    "\n",
    "import seaborn as sns\n",
    "import matplotlib.pyplot as plt\n",
    "\n",
    "plt.style.use('ggplot')"
   ]
  },
  {
   "cell_type": "code",
   "execution_count": 6,
   "metadata": {},
   "outputs": [],
   "source": [
    "def read_file(file_dir):\n",
    "    result = []\n",
    "    with open(file_dir, 'r', encoding='latin1') as f:\n",
    "        for line in f:\n",
    "            result.append(line.strip())\n",
    "    return result"
   ]
  },
  {
   "cell_type": "markdown",
   "metadata": {},
   "source": [
    "### R20\n",
    "---"
   ]
  },
  {
   "cell_type": "code",
   "execution_count": 51,
   "metadata": {},
   "outputs": [],
   "source": [
    "start = time()\n",
    "# parse config\n",
    "config_file = 'config.yaml'\n",
    "config = yaml.load(open(config_file), Loader=yaml.FullLoader)\n",
    "data_root_dir = config['preprocess']['data_root_dir']\n",
    "dataset = config['preprocess']['dataset']\n",
    "\n",
    "# generate text data\n",
    "text_data = TextDataForTC(config_file, dataset)\n",
    "# generate feature and label data [x, y, tx, ty, allx, ally]\n",
    "label2idx = text_data.get_label2idx()\n",
    "vocab = text_data.get_vocab()\n",
    "word2idx = vocab.get_word2idx()"
   ]
  },
  {
   "cell_type": "code",
   "execution_count": 52,
   "metadata": {},
   "outputs": [
    {
     "data": {
      "text/plain": [
       "dict_keys(['remove_stop_words', 'train_random_seed', 'test_random_seed', 'val_split_ratio', 'train_data_dir', 'test_data_dir', 'min_word_freq', 'embed_dim', 'word_freq', 'label2idx', 'raw_text_ls_train', 'label_ls_train', 'preprocessed_text_ls_train', 'raw_text_ls_test', 'label_ls_test', 'preprocessed_text_ls_test', 'stopwords', 'vocab', 'raw_text_ls_val', 'label_ls_val', 'preprocessed_text_ls_val'])"
      ]
     },
     "execution_count": 52,
     "metadata": {},
     "output_type": "execute_result"
    }
   ],
   "source": [
    "vars(text_data).keys()"
   ]
  },
  {
   "cell_type": "code",
   "execution_count": 53,
   "metadata": {},
   "outputs": [],
   "source": [
    "text_train = text_data.preprocessed_text_ls_train\n",
    "label_train = text_data.label_ls_train"
   ]
  },
  {
   "cell_type": "code",
   "execution_count": 54,
   "metadata": {},
   "outputs": [
    {
     "name": "stdout",
     "output_type": "stream",
     "text": [
      "mean document length:  353.7782361029267\n",
      "median document length:  203.0\n",
      "min document length:  18\n",
      "max document length:  18722\n"
     ]
    }
   ],
   "source": [
    "sent_len = np.array(list(map(lambda x: len(x.split()), text_train)))\n",
    "print(\"mean document length: \", sent_len.mean())\n",
    "print(\"median document length: \", np.median(sent_len))\n",
    "print(\"min document length: \", sent_len.min())\n",
    "print(\"max document length: \", sent_len.max())"
   ]
  },
  {
   "cell_type": "code",
   "execution_count": 59,
   "metadata": {},
   "outputs": [
    {
     "data": {
      "text/plain": [
       "868.9499999999989"
      ]
     },
     "execution_count": 59,
     "metadata": {},
     "output_type": "execute_result"
    }
   ],
   "source": [
    "np.quantile(sent_len, 0.95)"
   ]
  },
  {
   "cell_type": "code",
   "execution_count": 61,
   "metadata": {},
   "outputs": [
    {
     "name": "stderr",
     "output_type": "stream",
     "text": [
      "/home/ec2-user/anaconda3/envs/pytorch_p36/lib/python3.6/site-packages/scipy/stats/stats.py:1713: FutureWarning: Using a non-tuple sequence for multidimensional indexing is deprecated; use `arr[tuple(seq)]` instead of `arr[seq]`. In the future this will be interpreted as an array index, `arr[np.array(seq)]`, which will result either in an error or a different result.\n",
      "  return np.add.reduce(sorted[indexer] * weights, axis=axis) / sumval\n",
      "/home/ec2-user/anaconda3/envs/pytorch_p36/lib/python3.6/site-packages/matplotlib/axes/_axes.py:6521: MatplotlibDeprecationWarning: \n",
      "The 'normed' kwarg was deprecated in Matplotlib 2.1 and will be removed in 3.1. Use 'density' instead.\n",
      "  alternative=\"'density'\", removal=\"3.1\")\n"
     ]
    },
    {
     "data": {
      "text/plain": [
       "<matplotlib.axes._subplots.AxesSubplot at 0x7f603565def0>"
      ]
     },
     "execution_count": 61,
     "metadata": {},
     "output_type": "execute_result"
    },
    {
     "data": {
      "image/png": "[encoded data removed]",
      "text/plain": [
       "<Figure size 432x288 with 1 Axes>"
      ]
     },
     "metadata": {},
     "output_type": "display_data"
    }
   ],
   "source": [
    "sns.distplot(sent_len[sent_len<869])"
   ]
  },
  {
   "cell_type": "markdown",
   "metadata": {},
   "source": [
    "### MR\n",
    "---"
   ]
  },
  {
   "cell_type": "code",
   "execution_count": 46,
   "metadata": {},
   "outputs": [],
   "source": [
    "start = time()\n",
    "# parse config\n",
    "config_file = 'config_mr.yaml'\n",
    "config = yaml.load(open(config_file), Loader=yaml.FullLoader)\n",
    "data_root_dir = config['preprocess']['data_root_dir']\n",
    "dataset = config['preprocess']['dataset']\n",
    "\n",
    "# generate text data\n",
    "text_data = TextDataForTC(config_file, dataset)\n",
    "# generate feature and label data [x, y, tx, ty, allx, ally]\n",
    "label2idx = text_data.get_label2idx()\n",
    "vocab = text_data.get_vocab()\n",
    "word2idx = vocab.get_word2idx()"
   ]
  },
  {
   "cell_type": "code",
   "execution_count": 47,
   "metadata": {},
   "outputs": [],
   "source": [
    "text_train = text_data.preprocessed_text_ls_train\n",
    "label_train = text_data.label_ls_train"
   ]
  },
  {
   "cell_type": "code",
   "execution_count": 48,
   "metadata": {},
   "outputs": [
    {
     "name": "stdout",
     "output_type": "stream",
     "text": [
      "mean document length:  12.292480850398624\n",
      "median document length:  12.0\n",
      "min document length:  1\n",
      "max document length:  37\n"
     ]
    }
   ],
   "source": [
    "sent_len = np.array(list(map(lambda x: len(x.split()), text_train)))\n",
    "print(\"mean document length: \", sent_len.mean())\n",
    "print(\"median document length: \", np.median(sent_len))\n",
    "print(\"min document length: \", sent_len.min())\n",
    "print(\"max document length: \", sent_len.max())"
   ]
  },
  {
   "cell_type": "code",
   "execution_count": 50,
   "metadata": {},
   "outputs": [
    {
     "name": "stderr",
     "output_type": "stream",
     "text": [
      "/home/ec2-user/anaconda3/envs/pytorch_p36/lib/python3.6/site-packages/scipy/stats/stats.py:1713: FutureWarning: Using a non-tuple sequence for multidimensional indexing is deprecated; use `arr[tuple(seq)]` instead of `arr[seq]`. In the future this will be interpreted as an array index, `arr[np.array(seq)]`, which will result either in an error or a different result.\n",
      "  return np.add.reduce(sorted[indexer] * weights, axis=axis) / sumval\n",
      "/home/ec2-user/anaconda3/envs/pytorch_p36/lib/python3.6/site-packages/matplotlib/axes/_axes.py:6521: MatplotlibDeprecationWarning: \n",
      "The 'normed' kwarg was deprecated in Matplotlib 2.1 and will be removed in 3.1. Use 'density' instead.\n",
      "  alternative=\"'density'\", removal=\"3.1\")\n"
     ]
    },
    {
     "data": {
      "text/plain": [
       "<matplotlib.axes._subplots.AxesSubplot at 0x7f6037e72208>"
      ]
     },
     "execution_count": 50,
     "metadata": {},
     "output_type": "execute_result"
    },
    {
     "data": {
      "image/png": "[encoded data removed]",
      "text/plain": [
       "<Figure size 432x288 with 1 Axes>"
      ]
     },
     "metadata": {},
     "output_type": "display_data"
    }
   ],
   "source": [
    "sns.distplot(sent_len)"
   ]
  },
  {
   "cell_type": "code",
   "execution_count": null,
   "metadata": {},
   "outputs": [],
   "source": []
  }
 ],
 "metadata": {
  "kernelspec": {
   "display_name": "conda_pytorch_p36",
   "language": "python",
   "name": "conda_pytorch_p36"
  },
  "language_info": {
   "codemirror_mode": {
    "name": "ipython",
    "version": 3
   },
   "file_extension": ".py",
   "mimetype": "text/x-python",
   "name": "python",
   "nbconvert_exporter": "python",
   "pygments_lexer": "ipython3",
   "version": "3.6.5"
  }
 },
 "nbformat": 4,
 "nbformat_minor": 4
}
