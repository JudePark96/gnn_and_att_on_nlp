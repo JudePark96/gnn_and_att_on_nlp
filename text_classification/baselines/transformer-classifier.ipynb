{
 "cells": [
  {
   "cell_type": "markdown",
   "metadata": {},
   "source": [
    "### Re-implementing text classification with transformer"
   ]
  },
  {
   "cell_type": "code",
   "execution_count": 1,
   "metadata": {},
   "outputs": [],
   "source": [
    "import sys\n",
    "\n",
    "sys.path.append(\"..\")\n",
    "%load_ext autoreload\n",
    "%autoreload 2"
   ]
  },
  {
   "cell_type": "code",
   "execution_count": 2,
   "metadata": {},
   "outputs": [
    {
     "name": "stdout",
     "output_type": "stream",
     "text": [
      "[nltk_data] Downloading package stopwords to\n",
      "[nltk_data]     /home/ec2-user/nltk_data...\n",
      "[nltk_data]   Unzipping corpora/stopwords.zip.\n"
     ]
    }
   ],
   "source": [
    "import yaml\n",
    "import numpy as np\n",
    "import scipy.sparse as sp\n",
    "import pickle as pkl\n",
    "import os\n",
    "\n",
    "from preprocess.utils import DocumentStatsBuilder as DSBuilder\n",
    "from preprocess.utils import TextConverter\n",
    "from preprocess.data import TextDataForTC\n",
    "from time import time"
   ]
  },
  {
   "cell_type": "code",
   "execution_count": 3,
   "metadata": {},
   "outputs": [
    {
     "name": "stdout",
     "output_type": "stream",
     "text": [
      "time taken: 44.67228126525879\n"
     ]
    }
   ],
   "source": [
    "start = time()\n",
    "config_file = 'config.yaml'\n",
    "text_data = TextDataForTC(config_file, '20ng')\n",
    "label2idx = text_data.get_label2idx()\n",
    "vocab = text_data.get_vocab()\n",
    "word2idx = vocab.get_word2idx()\n",
    "text_ls_train = text_data.get_text_ls('train')\n",
    "text_ls_val = text_data.get_text_ls('val')\n",
    "text_ls_test = text_data.get_text_ls('test')\n",
    "label_ls_train = text_data.get_label_ls('train')\n",
    "label_ls_val = text_data.get_label_ls('val')\n",
    "label_ls_test = text_data.get_label_ls('test')\n",
    "print(\"time taken: \" + str(time() - start))"
   ]
  },
  {
   "cell_type": "code",
   "execution_count": 4,
   "metadata": {},
   "outputs": [
    {
     "data": {
      "text/plain": [
       "42903"
      ]
     },
     "execution_count": 4,
     "metadata": {},
     "output_type": "execute_result"
    }
   ],
   "source": [
    "len(vocab)"
   ]
  },
  {
   "cell_type": "code",
   "execution_count": null,
   "metadata": {},
   "outputs": [],
   "source": []
  }
 ],
 "metadata": {
  "kernelspec": {
   "display_name": "conda_pytorch_p36",
   "language": "python",
   "name": "conda_pytorch_p36"
  },
  "language_info": {
   "codemirror_mode": {
    "name": "ipython",
    "version": 3
   },
   "file_extension": ".py",
   "mimetype": "text/x-python",
   "name": "python",
   "nbconvert_exporter": "python",
   "pygments_lexer": "ipython3",
   "version": "3.6.5"
  }
 },
 "nbformat": 4,
 "nbformat_minor": 4
}
